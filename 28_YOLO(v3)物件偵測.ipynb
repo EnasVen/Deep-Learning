{
 "cells": [
  {
   "cell_type": "markdown",
   "id": "edff1eb0-e0fe-4bd1-af18-0a102a4f1a80",
   "metadata": {},
   "source": [
    "# YOLO 物件偵測\n",
    "至 https://github.com/zzh8829/yolov3-tf2 下載zip檔案  \n",
    "開啟cmd:\n",
    "> 偵測圖像物件 : python detect.py --image ./data/meme.jpg  \n",
    "> 偵測影片物件 : python detect_video.py --video path_to_file.mp4 --output ./output.avi  \n"
   ]
  },
  {
   "cell_type": "code",
   "execution_count": null,
   "id": "837b83bb-fb01-4e92-9822-e1793fcceccd",
   "metadata": {},
   "outputs": [],
   "source": []
  }
 ],
 "metadata": {
  "kernelspec": {
   "display_name": "Python 3 (ipykernel)",
   "language": "python",
   "name": "python3"
  },
  "language_info": {
   "codemirror_mode": {
    "name": "ipython",
    "version": 3
   },
   "file_extension": ".py",
   "mimetype": "text/x-python",
   "name": "python",
   "nbconvert_exporter": "python",
   "pygments_lexer": "ipython3",
   "version": "3.8.13"
  }
 },
 "nbformat": 4,
 "nbformat_minor": 5
}
