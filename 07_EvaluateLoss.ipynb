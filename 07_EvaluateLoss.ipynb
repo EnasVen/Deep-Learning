{
 "cells": [
  {
   "cell_type": "markdown",
   "metadata": {},
   "source": [
    "# MSE\n",
    "做regression時使用"
   ]
  },
  {
   "cell_type": "code",
   "execution_count": 10,
   "metadata": {},
   "outputs": [
    {
     "name": "stdout",
     "output_type": "stream",
     "text": [
      "MSE result: [0.00125    0.48666668]\n",
      "MAPE result: [1.6666669e+07 3.0000003e+08]\n",
      "MAE result: [0.03333334 0.59999996]\n"
     ]
    }
   ],
   "source": [
    "import tensorflow as tf\n",
    "y_true = [[0, 1, 0], [0, 0, 1]]\n",
    "y_pred = [[0.025, 0.95, 0.025], [0.1, 0.8, 0.1]]\n",
    "\n",
    "print(\n",
    "f\"MSE result: {tf.keras.losses.MSE(y_true, y_pred).numpy()}\\\n",
    "\\nMAPE result: {tf.keras.losses.MAPE(y_true, y_pred).numpy()}\\\n",
    "\\nMAE result: {tf.keras.losses.MAE(y_true, y_pred).numpy()}\\\n",
    "\"\n",
    ")"
   ]
  },
  {
   "cell_type": "markdown",
   "metadata": {},
   "source": [
    "# Cross-entropy\n",
    "做分類問題時使用"
   ]
  },
  {
   "cell_type": "code",
   "execution_count": 2,
   "metadata": {},
   "outputs": [
    {
     "data": {
      "text/plain": [
       "array([0.05129325, 2.3025851 ], dtype=float32)"
      ]
     },
     "execution_count": 2,
     "metadata": {},
     "output_type": "execute_result"
    }
   ],
   "source": [
    "import tensorflow as tf\n",
    "\n",
    "y_true = [[0, 1, 0], [0, 0, 1]]\n",
    "y_pred = [[0.025, 0.95, 0.025], [0.1, 0.8, 0.1]]\n",
    "# tf.keras.losses.categorical_crossentropy(y_pred = y_pred , y_true = y_true).numpy()\n",
    "loss = tf.keras.losses.categorical_crossentropy(y_pred = y_pred , y_true = y_true)\n",
    "assert loss.shape == (2,)\n",
    "loss.numpy()"
   ]
  },
  {
   "cell_type": "code",
   "execution_count": 14,
   "metadata": {},
   "outputs": [
    {
     "data": {
      "text/plain": [
       "array([0.05129084, 2.3025823 ], dtype=float32)"
      ]
     },
     "execution_count": 14,
     "metadata": {},
     "output_type": "execute_result"
    }
   ],
   "source": [
    "# 也可以計算KLD\n",
    "tf.keras.losses.KLD(y_pred = y_pred , y_true = y_true).numpy()"
   ]
  },
  {
   "cell_type": "code",
   "execution_count": 50,
   "metadata": {},
   "outputs": [
    {
     "data": {
      "text/plain": [
       "array([0.05129333, 2.3025851 ], dtype=float32)"
      ]
     },
     "execution_count": 50,
     "metadata": {},
     "output_type": "execute_result"
    }
   ],
   "source": [
    "# sparse 代表不做one-hot encoding\n",
    "y_true = [1, 2]\n",
    "y_pred = [[0.025, 0.95, 0.025], [0.1, 0.8, 0.1]]\n",
    "\n",
    "tf.keras.losses.sparse_categorical_crossentropy(y_true, y_pred).numpy()"
   ]
  },
  {
   "cell_type": "code",
   "execution_count": 54,
   "metadata": {},
   "outputs": [
    {
     "name": "stdout",
     "output_type": "stream",
     "text": [
      "[0.05129331 2.3025851 ]\n"
     ]
    }
   ],
   "source": [
    "y_true = [[0, 1, 0], [0, 0, 1]]\n",
    "y_pred = [[0.025, 0.95, 0.025], [0.1, 0.8, 0.1]]\n",
    "\n",
    "def cross_entropy(y_true, y_pred):\n",
    "    x = -tf.math.reduce_sum(y_true * tf.math.log(y_pred), axis=1)\n",
    "    return x.numpy()\n",
    "\n",
    "print(cross_entropy(y_true, y_pred))\n"
   ]
  },
  {
   "cell_type": "markdown",
   "metadata": {},
   "source": [
    "# DNN"
   ]
  },
  {
   "cell_type": "code",
   "execution_count": 5,
   "metadata": {},
   "outputs": [
    {
     "name": "stdout",
     "output_type": "stream",
     "text": [
      "[6 8 4 1 5]\n",
      "tf.Tensor([1.7521616 2.4806855 2.3468375 2.9898252 2.4064834], shape=(5,), dtype=float32)\n"
     ]
    }
   ],
   "source": [
    "import numpy as np\n",
    "tf.compat.v1.reset_default_graph()\n",
    "import tensorflow as tf\n",
    "class MNISTLoader():\n",
    "    def __init__(self):\n",
    "        mnist = tf.keras.datasets.mnist\n",
    "        (self.train_data, self.train_label), (self.test_data, self.test_label) = mnist.load_data()\n",
    "\n",
    "        self.train_data = np.expand_dims(self.train_data.astype(np.float32) / 255.0, axis=-1)      # [60000, 28, 28, 1]\n",
    "        self.test_data = np.expand_dims(self.test_data.astype(np.float32) / 255.0, axis=-1)        # [10000, 28, 28, 1]\n",
    "        self.train_label = self.train_label.astype(np.int32)    # [60000]\n",
    "        self.test_label = self.test_label.astype(np.int32)      # [10000]\n",
    "        self.num_train_data, self.num_test_data = self.train_data.shape[0], self.test_data.shape[0]\n",
    "\n",
    "    def get_batch(self, batch_size):\n",
    "\n",
    "        index = np.random.randint(0, self.num_train_data, batch_size)\n",
    "        return self.train_data[index, :], self.train_label[index]\n",
    "    \n",
    "class MLP(tf.keras.Model):\n",
    "    def __init__(self):\n",
    "        super().__init__()\n",
    "        self.flatten = tf.keras.layers.Flatten()    \n",
    "        self.dense1 = tf.keras.layers.Dense(units=100, activation=tf.nn.relu)\n",
    "        self.dense2 = tf.keras.layers.Dense(units=10)\n",
    "\n",
    "    def call(self, inputs):         # [batch_size, 28, 28, 1]\n",
    "        x = self.flatten(inputs)    # [batch_size, 784]\n",
    "        x = self.dense1(x)          # [batch_size, 100]\n",
    "        x = self.dense2(x)          # [batch_size, 10]\n",
    "        output = tf.nn.softmax(x)\n",
    "        return output\n",
    "\n",
    "# num_epochs = 5\n",
    "batch_size = 5\n",
    "# learning_rate = 0.001\n",
    "\n",
    "model = MLP()\n",
    "data_loader = MNISTLoader()\n",
    "\n",
    "# num_batches = int(data_loader.num_train_data // batch_size * num_epochs)\n",
    "\n",
    "X, y = data_loader.get_batch(batch_size)\n",
    "print(y)\n",
    "with tf.GradientTape() as tape:\n",
    "    y_pred = model(X)\n",
    "    loss = tf.keras.losses.sparse_categorical_crossentropy(y_true=y, y_pred=y_pred)\n",
    "    print(loss)"
   ]
  },
  {
   "cell_type": "code",
   "execution_count": null,
   "metadata": {},
   "outputs": [],
   "source": []
  }
 ],
 "metadata": {
  "kernelspec": {
   "display_name": "Python 3 (ipykernel)",
   "language": "python",
   "name": "python3"
  },
  "language_info": {
   "codemirror_mode": {
    "name": "ipython",
    "version": 3
   },
   "file_extension": ".py",
   "mimetype": "text/x-python",
   "name": "python",
   "nbconvert_exporter": "python",
   "pygments_lexer": "ipython3",
   "version": "3.8.13"
  }
 },
 "nbformat": 4,
 "nbformat_minor": 4
}
