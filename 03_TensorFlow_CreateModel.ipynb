{
 "cells": [
  {
   "cell_type": "markdown",
   "id": "2de69b28-9ffc-46b2-a79e-d4c1f4f6ce62",
   "metadata": {},
   "source": [
    "## MNIST 使用\n",
    "MNIST is a computer vision dataset. It consists of black and white images from zero to nine. Each image is 28 * 28. Also, it includes labels for each image, telling us which digit it is.\n",
    "\n",
    "![Alt text](./images/dnn_implement/Selection_017.png)\n",
    "![Alt text](./images/dnn_implement/Selection_018.png)\n"
   ]
  },
  {
   "cell_type": "code",
   "execution_count": 1,
   "id": "8aedd500-ad1e-4c8b-88e4-c80d026e8745",
   "metadata": {},
   "outputs": [
    {
     "name": "stdout",
     "output_type": "stream",
     "text": [
      "Downloading data from https://storage.googleapis.com/tensorflow/tf-keras-datasets/mnist.npz\n",
      "11493376/11490434 [==============================] - 1s 0us/step\n",
      "(60000, 28, 28)\n",
      "(60000,)\n",
      "[5 0 4 ... 5 6 8]\n"
     ]
    }
   ],
   "source": [
    "from tensorflow import keras\n",
    "from tensorflow.keras import layers\n",
    "import matplotlib.pyplot as plt\n",
    "\n",
    "(x_train, y_train), (x_test, y_test) = keras.datasets.mnist.load_data()\n",
    "\n",
    "print(x_train.shape)\n",
    "print(y_train.shape)\n",
    "print(y_train)"
   ]
  },
  {
   "cell_type": "code",
   "execution_count": 2,
   "id": "ee074947-5f3c-43a6-b358-16ad67d15237",
   "metadata": {},
   "outputs": [
    {
     "data": {
      "image/png": "[encoded data removed]",
      "text/plain": [
       "<Figure size 432x288 with 1 Axes>"
      ]
     },
     "metadata": {
      "needs_background": "light"
     },
     "output_type": "display_data"
    }
   ],
   "source": [
    "plt.figure()\n",
    "plt.imshow(x_train[0])\n",
    "\n",
    "plt.show()"
   ]
  },
  {
   "cell_type": "code",
   "execution_count": 2,
   "id": "1d6b749c-ffd9-4927-b5f6-2f1b1d36273a",
   "metadata": {},
   "outputs": [
    {
     "name": "stdout",
     "output_type": "stream",
     "text": [
      "x_train shape: (60000, 784)\n",
      "x_test shape: (10000, 784)\n",
      "y_train shape: (60000,)\n",
      "y_test shape: (10000,)\n"
     ]
    }
   ],
   "source": [
    "x_train = x_train.reshape([x_train.shape[0], 28*28])\n",
    "x_test = x_test.reshape([x_test.shape[0], 28*28])\n",
    "print('x_train shape: {}'.format(x_train.shape))\n",
    "print('x_test shape: {}'.format(x_test.shape))\n",
    "print('y_train shape: {}'.format(y_train.shape))\n",
    "print('y_test shape: {}'.format(y_test.shape))"
   ]
  },
  {
   "cell_type": "markdown",
   "id": "0646837c-a1da-4833-8d16-91aecdb4f60b",
   "metadata": {},
   "source": [
    "# TensorFlow2不同創建模型的方法  \n",
    "ref:　https://towardsdatascience.com/3-ways-to-build-neural-networks-in-tensorflow-with-the-keras-api-80e92d3b5b7e"
   ]
  },
  {
   "cell_type": "markdown",
   "id": "519a4aad-853e-4024-8dbf-4b79ca4dc48f",
   "metadata": {},
   "source": [
    "![title](images/diff_method.png)"
   ]
  },
  {
   "cell_type": "markdown",
   "id": "4ac193d2-00a0-45d8-b078-49ff826fbdc9",
   "metadata": {},
   "source": [
    "# Sequential API\n",
    "Keras使用一層一層依序串接起來的類神經網路架構"
   ]
  },
  {
   "cell_type": "code",
   "execution_count": 11,
   "id": "31a8ef5c-62e8-4e68-a3b8-b434a7b5f79d",
   "metadata": {
    "scrolled": true,
    "tags": []
   },
   "outputs": [
    {
     "name": "stdout",
     "output_type": "stream",
     "text": [
      "(60000, 28, 28)\n",
      "(60000,)\n",
      "[5 0 4 ... 5 6 8]\n",
      "Model: \"sequential\"\n",
      "_________________________________________________________________\n",
      "Layer (type)                 Output Shape              Param #   \n",
      "=================================================================\n",
      "flatten (Flatten)            (None, 784)               0         \n",
      "_________________________________________________________________\n",
      "dense (Dense)                (None, 256)               200960    \n",
      "_________________________________________________________________\n",
      "dense_1 (Dense)              (None, 10)                2570      \n",
      "=================================================================\n",
      "Total params: 203,530\n",
      "Trainable params: 203,530\n",
      "Non-trainable params: 0\n",
      "_________________________________________________________________\n"
     ]
    }
   ],
   "source": [
    "from tensorflow import keras\n",
    "from tensorflow.keras import layers\n",
    "import matplotlib.pyplot as plt\n",
    "import tensorflow as tf\n",
    "tf.compat.v1.reset_default_graph()\n",
    "\n",
    "(x_train, y_train), (x_test, y_test) = keras.datasets.mnist.load_data()\n",
    "\n",
    "print(x_train.shape)\n",
    "print(y_train.shape)\n",
    "print(y_train)\n",
    "\n",
    "# sequential API\n",
    "\n",
    "model = keras.Sequential([ \n",
    "          layers.Flatten(input_shape=(28, 28)), \n",
    "          layers.Dense(256,'relu'), \n",
    "          layers.Dense(10, \"softmax\"),\n",
    "          ])\n",
    "model.summary()"
   ]
  },
  {
   "cell_type": "markdown",
   "id": "ddf4c4f4-422a-4a90-a1bc-9184633a1eb4",
   "metadata": {},
   "source": [
    "# Functional API\n",
    "Keras使用類似函數的形式h(g(f(x)))將一層一層layer串起來"
   ]
  },
  {
   "cell_type": "code",
   "execution_count": 10,
   "id": "74ce0b43-f745-45fe-82e0-033c6cb95a91",
   "metadata": {},
   "outputs": [
    {
     "name": "stdout",
     "output_type": "stream",
     "text": [
      "(60000, 28, 28)\n",
      "(60000,)\n",
      "[5 0 4 ... 5 6 8]\n",
      "Model: \"mnist_model\"\n",
      "_________________________________________________________________\n",
      "Layer (type)                 Output Shape              Param #   \n",
      "=================================================================\n",
      "input_1 (InputLayer)         [(None, 28, 28)]          0         \n",
      "_________________________________________________________________\n",
      "flatten (Flatten)            (None, 784)               0         \n",
      "_________________________________________________________________\n",
      "dense (Dense)                (None, 256)               200960    \n",
      "_________________________________________________________________\n",
      "dense_1 (Dense)              (None, 10)                2570      \n",
      "=================================================================\n",
      "Total params: 203,530\n",
      "Trainable params: 203,530\n",
      "Non-trainable params: 0\n",
      "_________________________________________________________________\n"
     ]
    }
   ],
   "source": [
    "from tensorflow import keras\n",
    "from tensorflow.keras import layers\n",
    "import matplotlib.pyplot as plt\n",
    "import tensorflow as tf\n",
    "tf.compat.v1.reset_default_graph()\n",
    "\n",
    "(x_train, y_train), (x_test, y_test) = keras.datasets.mnist.load_data()\n",
    "\n",
    "print(x_train.shape)\n",
    "print(y_train.shape)\n",
    "print(y_train)\n",
    "\n",
    "# functional API\n",
    "\n",
    "inputs = keras.Input(shape=(28, 28)) \n",
    "x = layers.Flatten()(inputs) \n",
    "x = layers.Dense(256, \"relu\")(x) \n",
    "outputs = layers.Dense(10, \"softmax\")(x) \n",
    "\n",
    "model = keras.Model(inputs=inputs, outputs=outputs, name=\"mnist_model\")\n",
    "model.summary()"
   ]
  },
  {
   "cell_type": "markdown",
   "id": "9485ca15-228f-4db5-887c-6deb0a7cba12",
   "metadata": {},
   "source": [
    "# Model SubClassing\n",
    "TensorFlow內使用類別與建構子的定義來架設類神經網路，須注意class內需要定義__init__()建構子與call()方法  \n",
    "建構子用來初始化instance，定義不同layer的規格  \n",
    "call()用來連接不同layer，創造DNN instance"
   ]
  },
  {
   "cell_type": "code",
   "execution_count": 10,
   "id": "d3abdea9-9df6-44cd-8f23-d8fac70aefa8",
   "metadata": {},
   "outputs": [
    {
     "name": "stdout",
     "output_type": "stream",
     "text": [
      "Model: \"custom_model\"\n",
      "_________________________________________________________________\n",
      "Layer (type)                 Output Shape              Param #   \n",
      "=================================================================\n",
      "flatten (Flatten)            multiple                  0         \n",
      "_________________________________________________________________\n",
      "dense (Dense)                multiple                  200960    \n",
      "_________________________________________________________________\n",
      "dense_1 (Dense)              multiple                  2570      \n",
      "=================================================================\n",
      "Total params: 203,530\n",
      "Trainable params: 203,530\n",
      "Non-trainable params: 0\n",
      "_________________________________________________________________\n"
     ]
    }
   ],
   "source": [
    "from tensorflow import keras\n",
    "from tensorflow.keras import layers\n",
    "import matplotlib.pyplot as plt\n",
    "import tensorflow as tf\n",
    "tf.compat.v1.reset_default_graph()\n",
    "\n",
    "# Model Subclassing\n",
    "\n",
    "class CustomModel(tf.keras.Model):\n",
    "    # 定義網路每一層\n",
    "    def __init__(self):\n",
    "        super().__init__()\n",
    "        self.layer_1 = tf.keras.layers.Flatten()\n",
    "        self.layer_2 = tf.keras.layers.Dense(256, \"relu\") # 784*256 + 256\n",
    "        self.layer_3 = tf.keras.layers.Dense(10, \"softmax\") # 256*10 + 10\n",
    "    # 將不同層連接起來\n",
    "    def call(self, inputs):\n",
    "        x = self.layer_1(inputs)\n",
    "        x = self.layer_2(x)\n",
    "        x = self.layer_3(x)\n",
    "        return x\n",
    "\n",
    "model = CustomModel()\n",
    "model.build((None, 28, 28))\n",
    "model.summary()"
   ]
  }
 ],
 "metadata": {
  "kernelspec": {
   "display_name": "Python 3 (ipykernel)",
   "language": "python",
   "name": "python3"
  },
  "language_info": {
   "codemirror_mode": {
    "name": "ipython",
    "version": 3
   },
   "file_extension": ".py",
   "mimetype": "text/x-python",
   "name": "python",
   "nbconvert_exporter": "python",
   "pygments_lexer": "ipython3",
   "version": "3.8.13"
  }
 },
 "nbformat": 4,
 "nbformat_minor": 5
}
