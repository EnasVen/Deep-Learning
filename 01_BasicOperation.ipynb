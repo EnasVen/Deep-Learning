{
 "cells": [
  {
   "cell_type": "markdown",
   "id": "93869b82-3dbc-475c-9606-908641abdf0a",
   "metadata": {},
   "source": [
    "# Eager Execution\n",
    "\n",
    "\n",
    "TensorFlow 引入了「Eager Execution」動態圖模式，這個模式在TensorFlow2.0為預設模式，不同與以往的靜態圖模式需要建立計算圖才能執行，Eager Execution模式一旦執行就會返回數值。這使TensorFlow 更容易入門，也使研發更直觀。\n",
    "\n",
    "**Eager Execution 的優點如下：**\n",
    "\n",
    "- 立即返回數值，方便除錯。\n",
    "- 無需 Session.run() 就可以把它們的值返回到 Python。\n",
    "- 為自定義和高階梯度提供強大支援。\n",
    "- 幾乎所有 TensorFlow 運算都適用。\n",
    "\n",
    "**TensorFlow 1.x 和 TensorFlow2.0比較：**\n",
    "```\n",
    "TensorFlow 1.x code:\n",
    ">>> a = tf.constant(1)\n",
    ">>> print(a)\n",
    "Tensor(\"Const_5:0\", shape=(), dtype=int32)\n",
    "\n",
    ">>> sess = tf.Session()\n",
    ">>> print(\"a = {}\".format(sess.run(a)))\n",
    "a = 1\n",
    "\n",
    "\n",
    "TensorFlow 2.0 code:\n",
    ">>> a = tf.constant(1)\n",
    ">>> print(a)\n",
    "tf.Tensor(1, shape=(), dtype=int32)\n",
    "```"
   ]
  },
  {
   "cell_type": "code",
   "execution_count": 1,
   "id": "4525fc26-f922-4c57-a5dc-5c4cead412f7",
   "metadata": {
    "tags": []
   },
   "outputs": [
    {
     "name": "stdout",
     "output_type": "stream",
     "text": [
      "Eager Execution 是否啟動: True\n"
     ]
    }
   ],
   "source": [
    "import numpy as np\n",
    "import tensorflow as tf\n",
    "\n",
    "print(\"Eager Execution 是否啟動: {}\".format(tf.executing_eagerly()))"
   ]
  },
  {
   "cell_type": "code",
   "execution_count": 6,
   "id": "5aed8fc6-96bc-4d71-a1e2-bd4f3e2ca61f",
   "metadata": {},
   "outputs": [
    {
     "name": "stdout",
     "output_type": "stream",
     "text": [
      "<bound method _EagerTensorBase.numpy of <tf.Tensor: shape=(), dtype=int32, numpy=3>>\n",
      "tf.Tensor(4, shape=(), dtype=int32)\n",
      "a = 3\n",
      "b = 4\n",
      "c = 50\n"
     ]
    }
   ],
   "source": [
    "a = tf.constant(3)\n",
    "b = tf.constant(4)\n",
    "c = tf.constant(50)\n",
    "print(a.numpy)\n",
    "print(b)\n",
    "print(\"a = {}\".format(a))\n",
    "print(\"b = {}\".format(b))\n",
    "print(f\"c = {c}\")"
   ]
  },
  {
   "cell_type": "code",
   "execution_count": 3,
   "id": "fa6ebd0e-47fd-4fae-add6-28f16409aa89",
   "metadata": {},
   "outputs": [
    {
     "name": "stdout",
     "output_type": "stream",
     "text": [
      "x: [[1 2]\n",
      " [3 4]]\n",
      "\n",
      "y: [[5 6]\n",
      " [7 8]]\n",
      "\n",
      "tf_sum: [[ 6  8]\n",
      " [10 12]]\n",
      "\n",
      "tf_sub: [[-4 -4]\n",
      " [-4 -4]]\n",
      "\n",
      "tf_mul: [[ 5 12]\n",
      " [21 32]]\n",
      "\n",
      "tf_div: [[0.2        0.33333333]\n",
      " [0.42857143 0.5       ]]\n",
      "\n",
      "tf_mod: [[1 2]\n",
      " [3 4]]\n",
      "\n",
      "tf_neg: [[-1 -2]\n",
      " [-3 -4]]\n",
      "\n"
     ]
    }
   ],
   "source": [
    "x = tf.constant([[1, 2],[3, 4]], name='x')\n",
    "y = tf.constant([[5, 6],[7, 8]], name='y')\n",
    "\n",
    "tf_sum = x + y\n",
    "tf_sub = x - y\n",
    "tf_mul = x * y # element-wise\n",
    "tf_div = x / y\n",
    "tf_mod = x % y\n",
    "tf_neg = -x\n",
    "\n",
    "print(\"x: {}\\n\".format(x))\n",
    "print(\"y: {}\\n\".format(y))\n",
    "print(\"tf_sum: {}\\n\".format(tf_sum))\n",
    "print(\"tf_sub: {}\\n\".format(tf_sub))\n",
    "print(\"tf_mul: {}\\n\".format(tf_mul))\n",
    "print(\"tf_div: {}\\n\".format(tf_div))\n",
    "print(\"tf_mod: {}\\n\".format(tf_mod))\n",
    "print(\"tf_neg: {}\\n\".format(tf_neg))"
   ]
  },
  {
   "cell_type": "code",
   "execution_count": 8,
   "id": "b777f90b-0992-4e03-8e1c-5a0a21463955",
   "metadata": {},
   "outputs": [
    {
     "name": "stdout",
     "output_type": "stream",
     "text": [
      "x: [[1 2]\n",
      " [3 4]]\n",
      "\n",
      "y: [[5 6]\n",
      " [7 8]]\n",
      "\n",
      "tf_sum: [[ 6  8]\n",
      " [10 12]]\n",
      "\n",
      "tf_sub: [[-4 -4]\n",
      " [-4 -4]]\n",
      "\n",
      "tf_mul: [[ 5 12]\n",
      " [21 32]]\n",
      "\n",
      "tf_div: [[0.2        0.33333333]\n",
      " [0.42857143 0.5       ]]\n",
      "\n",
      "tf_mod: [[1 2]\n",
      " [3 4]]\n",
      "\n",
      "tf_neg: [[-1 -2]\n",
      " [-3 -4]]\n",
      "\n"
     ]
    }
   ],
   "source": [
    "import tensorflow as tf\n",
    "x = tf.constant([[1, 2],[3, 4]], name='x')\n",
    "y = tf.constant([[5, 6],[7, 8]], name='y')\n",
    "\n",
    "tf_sum = tf.math.add(x, y)\n",
    "tf_sub = tf.math.subtract(x, y)\n",
    "tf_mul = tf.math.multiply(x, y)\n",
    "tf_div = tf.math.divide(x,y)\n",
    "tf_mod = tf.math.mod(x,y)\n",
    "tf_neg = tf.math.negative(x)\n",
    "\n",
    "\n",
    "print(\"x: {}\\n\".format(x))\n",
    "print(\"y: {}\\n\".format(y))\n",
    "print(\"tf_sum: {}\\n\".format(tf_sum))\n",
    "print(\"tf_sub: {}\\n\".format(tf_sub))\n",
    "print(\"tf_mul: {}\\n\".format(tf_mul))\n",
    "print(\"tf_div: {}\\n\".format(tf_div))\n",
    "print(\"tf_mod: {}\\n\".format(tf_mod))\n",
    "print(\"tf_neg: {}\\n\".format(tf_neg))"
   ]
  },
  {
   "cell_type": "code",
   "execution_count": 7,
   "id": "e5b896b9-914f-4026-adc3-385da7cbf0b7",
   "metadata": {},
   "outputs": [
    {
     "name": "stdout",
     "output_type": "stream",
     "text": [
      "product: [[19. 22.]\n",
      " [43. 50.]]\n",
      "\n",
      "inv: [[-2.0000002   1.0000001 ]\n",
      " [ 1.5000001  -0.50000006]]\n",
      "\n",
      "trans: [[1. 3.]\n",
      " [2. 4.]]\n",
      "\n"
     ]
    }
   ],
   "source": [
    "matrix1 = tf.constant([[1.0, 2.0],[3.0, 4.0]], name='x')\n",
    "matrix2 = tf.constant([[5.0, 6.0],[7.0, 8.0]], name='y')\n",
    "\n",
    "product = tf.linalg.matmul(matrix1, matrix2)\n",
    "inv = tf.linalg.inv(matrix1)\n",
    "trans = tf.linalg.matrix_transpose(matrix1)\n",
    "\n",
    "print(\"product: {}\\n\".format(product))\n",
    "print(\"inv: {}\\n\".format(inv))\n",
    "print(\"trans: {}\\n\".format(trans))"
   ]
  },
  {
   "cell_type": "markdown",
   "id": "fc7fa9a7-7e0d-47bd-ae4e-3e6026210468",
   "metadata": {
    "tags": []
   },
   "source": [
    "# Tensor Type\n",
    "There are many data type in tensorflow. Following list some common type. If you want to change the type of tensor, ```tf.cast()``` can help. Please reference the following code.\n",
    "\n",
    "| Python type | Description |  \n",
    "| :------: | :------: |  \n",
    "| tf.float32 | 32 bits floating point |\n",
    "| tf.float64 | 64 bits floating point |\n",
    "| tf.int8 | 8 bits signed integer |\n",
    "| tf.int16 | 16 bits signed integer |\n",
    "| tf.int32 | 32 bits signed integer |\n",
    "| tf.int64 | 64 bits signed integer |\n",
    "| tf.uint8 | 8 bits unsigned integer |\n",
    "| tf.uint16 | 16 bits unsigned integer |\n",
    "| tf.string | Variable length byte arrays. Each element of a Tensor is a byte array |\n",
    "| tf.bool | Boolean |"
   ]
  },
  {
   "cell_type": "code",
   "execution_count": 14,
   "id": "2c70f726-83a2-4ca8-85f8-6c64850fe25a",
   "metadata": {},
   "outputs": [
    {
     "name": "stdout",
     "output_type": "stream",
     "text": [
      "x_int: [1 2]\n",
      "\n"
     ]
    }
   ],
   "source": [
    "x_float = tf.constant([1.8, 2.2], dtype=tf.float32)\n",
    "x_int = tf.dtypes.cast(x_float, tf.int32)\n",
    "# x_int = tf.dtypes.cast(x_float, \"int32\")\n",
    "print(\"x_int: {}\\n\".format(x_int))"
   ]
  },
  {
   "cell_type": "markdown",
   "id": "56867efa-eb49-48a2-99f7-48190f4127ae",
   "metadata": {},
   "source": [
    "# Random Function"
   ]
  },
  {
   "cell_type": "code",
   "execution_count": 7,
   "id": "4aa9da27-2071-4dec-ba6d-58a09a83a926",
   "metadata": {},
   "outputs": [
    {
     "name": "stdout",
     "output_type": "stream",
     "text": [
      "random1: [[ 0.12010022  0.00935003  0.07728565]\n",
      " [-0.13148463  0.06154595 -0.03777624]]\n",
      "random2: [[-0.08179177  0.0260656   0.00617722]\n",
      " [ 0.0113455   0.0058369  -0.1083133 ]]\n",
      "random3: [[53.962635  52.10936   86.221275 ]\n",
      " [40.57897   29.81571    1.0723948]]\n"
     ]
    }
   ],
   "source": [
    "random1 = tf.constant(tf.random.normal([2,3],  mean=0.0, stddev=0.1))\n",
    "random2 = tf.constant(tf.random.truncated_normal([2,3],  mean=0.0, stddev=0.1))\n",
    "random3 = tf.constant(tf.random.uniform([2,3], minval=0, maxval=100))\n",
    "\n",
    "print('random1: {}'.format(random1))\n",
    "print('random2: {}'.format(random2))\n",
    "print('random3: {}'.format(random3))"
   ]
  },
  {
   "cell_type": "markdown",
   "id": "f568ba91-f015-459c-b370-f9a26c9d430c",
   "metadata": {},
   "source": [
    "# Constant Function"
   ]
  },
  {
   "cell_type": "code",
   "execution_count": 16,
   "id": "f605e53b-bd09-4a9c-853b-786356cf297f",
   "metadata": {},
   "outputs": [
    {
     "name": "stdout",
     "output_type": "stream",
     "text": [
      "c1: [[0.]\n",
      " [0.]]\n",
      "c2: [[1. 1. 1.]\n",
      " [1. 1. 1.]]\n",
      "c3: [[9 9 9 9]\n",
      " [9 9 9 9]]\n",
      "c4: [2. 1.]\n"
     ]
    }
   ],
   "source": [
    "c1 = tf.zeros([2,1])\n",
    "c2 = tf.ones([2,3])\n",
    "c3 = tf.fill([2,4], 9)\n",
    "c4 = tf.constant([2.0,1.0])\n",
    "# c4 = tf.constant([[2.0,1.0]])\n",
    "print('c1: {}'.format(c1))\n",
    "print('c2: {}'.format(c2))\n",
    "print('c3: {}'.format(c3))\n",
    "print('c4: {}'.format(c4))\n"
   ]
  },
  {
   "cell_type": "markdown",
   "id": "d3773ae5-750a-47af-bc46-817f2a7d8850",
   "metadata": {},
   "source": [
    "# Constant/Variable  \n",
    "Constant, variable, and placeholder can be set like the following. The difference among them is that \n",
    "1. constant can't be changed once define\n",
    "2. variable would change while learning. It need to be initialized by constant tensorflow."
   ]
  },
  {
   "cell_type": "code",
   "execution_count": 18,
   "id": "d388043f-9d3c-4321-9d86-e5bb60b9acb8",
   "metadata": {},
   "outputs": [
    {
     "name": "stdout",
     "output_type": "stream",
     "text": [
      "tf.Tensor(\n",
      "[[1.1 2.2]\n",
      " [3.3 4.4]], shape=(2, 2), dtype=float32)\n",
      "tf.Tensor(\n",
      "[[0. 0. 0.]\n",
      " [0. 0. 0.]], shape=(2, 3), dtype=float32)\n",
      "tf.Tensor([[0.19554272 0.21895784 0.08463436]], shape=(1, 3), dtype=float32)\n",
      "[[1.1 2.2]\n",
      " [3.3 4.4]]\n",
      "<tf.Variable 'Variable:0' shape=(2, 3) dtype=float32, numpy=\n",
      "array([[0., 0., 0.],\n",
      "       [0., 0., 0.]], dtype=float32)>\n",
      "<tf.Variable 'Variable:0' shape=(1, 3) dtype=float32, numpy=array([[ 1.6803914,  1.0050778, -0.5448439]], dtype=float32)>\n"
     ]
    }
   ],
   "source": [
    "x_constant1 = tf.constant([[1.1, 2.2],[3.3, 4.4]], dtype=tf.float32) # define float32 tensor\n",
    "x_constant2 = tf.zeros([2,3])\n",
    "x_constant3 = tf.random.normal([1,3], stddev=1)\n",
    "\n",
    "x_variable1 = tf.Variable(tf.constant([[1.1, 2.2],[3.3, 4.4]], dtype=tf.float32))\n",
    "x_variable2 = tf.Variable(tf.zeros([2,3]))\n",
    "x_variable3 = tf.Variable(tf.random.normal([1,3], stddev=1))\n",
    "\n",
    "print(x_constant1)\n",
    "print(x_constant2)\n",
    "print(x_constant3)\n",
    "\n",
    "print(x_variable1.numpy())\n",
    "print(x_variable2)\n",
    "print(x_variable3)"
   ]
  },
  {
   "cell_type": "markdown",
   "id": "bd125c98-a733-4324-a53f-faee81456737",
   "metadata": {},
   "source": [
    "# Common Function"
   ]
  },
  {
   "cell_type": "code",
   "execution_count": 19,
   "id": "46c7f2f9-a3c2-4fb7-8609-b2938ad85bf1",
   "metadata": {},
   "outputs": [
    {
     "name": "stdout",
     "output_type": "stream",
     "text": [
      "result1: 1.75\n",
      "result2: 7.0\n",
      "result3: [[1. 5.]\n",
      " [2. 3.]]\n"
     ]
    }
   ],
   "source": [
    "import tensorflow as tf\n",
    "x = tf.constant([[1., 5.], [-2., 3.]])\n",
    "result1 = tf.reduce_mean(x)\n",
    "result2 = tf.reduce_sum(x)\n",
    "result3 = tf.math.abs(x)\n",
    "print(\"result1: {}\".format(result1))\n",
    "print(\"result2: {}\".format(result2))\n",
    "print(\"result3: {}\".format(result3))\n"
   ]
  },
  {
   "cell_type": "code",
   "execution_count": 20,
   "id": "f17ac8a1-6009-4fb8-b551-e43a4a1cef33",
   "metadata": {},
   "outputs": [
    {
     "name": "stdout",
     "output_type": "stream",
     "text": [
      "arg_max: [2 1 0]\n",
      "arg_min: [0 2 2]\n"
     ]
    }
   ],
   "source": [
    "test =tf.constant([[1.1, 2.2, 3.3],[4.5, 3.2, 2.1], [5, 0, -2]], dtype=tf.float32)\n",
    "arg_max = tf.math.argmax(test)\n",
    "arg_min = tf.math.argmin(test)\n",
    "print(\"arg_max: {}\".format(arg_max))\n",
    "print(\"arg_min: {}\".format(arg_min))"
   ]
  },
  {
   "cell_type": "markdown",
   "id": "ca9e4710-a8fb-4edc-a3e2-0a147f577472",
   "metadata": {},
   "source": [
    "# Stack & Unstack\n",
    "觀念和Numpy的stack,unstack相同(包含新增軸與axis軸向操作)"
   ]
  },
  {
   "cell_type": "code",
   "execution_count": 23,
   "id": "98570680-dd98-40da-8986-ff214b53acc7",
   "metadata": {},
   "outputs": [
    {
     "name": "stdout",
     "output_type": "stream",
     "text": [
      "tf.Tensor(\n",
      "[[0.7 0.9]\n",
      " [0.1 0.4]\n",
      " [0.5 0.8]], shape=(3, 2), dtype=float32)\n",
      "tf.Tensor([0.7 0.9], shape=(2,), dtype=float32)\n",
      "tf.Tensor([0.1 0.4], shape=(2,), dtype=float32)\n",
      "tf.Tensor([0.5 0.8], shape=(2,), dtype=float32)\n",
      "tf.Tensor([0.7 0.1 0.5], shape=(3,), dtype=float32)\n",
      "tf.Tensor([0.9 0.4 0.8], shape=(3,), dtype=float32)\n"
     ]
    }
   ],
   "source": [
    "x = tf.constant([[0.7,0.9],[0.1,0.4],[0.5,0.8]], name='x')\n",
    "print(x)\n",
    "axis0_x = tf.unstack(x, axis=0)\n",
    "\n",
    "\n",
    "print(axis0_x[0])\n",
    "print(axis0_x[1])\n",
    "print(axis0_x[2])\n",
    "\n",
    "axis1_x = tf.unstack(x, axis=1)\n",
    "\n",
    "\n",
    "print(axis1_x[0])\n",
    "print(axis1_x[1])\n",
    "# print(axis1_x[2])"
   ]
  },
  {
   "cell_type": "code",
   "execution_count": 24,
   "id": "a6e2f002-5c61-4022-9a01-662f1032c804",
   "metadata": {},
   "outputs": [
    {
     "name": "stdout",
     "output_type": "stream",
     "text": [
      "tf.Tensor(\n",
      "[[[1. 2.]\n",
      "  [3. 4.]\n",
      "  [5. 6.]]\n",
      "\n",
      " [[1. 1.]\n",
      "  [0. 1.]\n",
      "  [1. 1.]]], shape=(2, 3, 2), dtype=float32)\n",
      "(2, 3, 2)\n",
      "tf.Tensor(\n",
      "[[[1. 2.]\n",
      "  [1. 1.]]\n",
      "\n",
      " [[3. 4.]\n",
      "  [0. 1.]]\n",
      "\n",
      " [[5. 6.]\n",
      "  [1. 1.]]], shape=(3, 2, 2), dtype=float32)\n",
      "(3, 2, 2)\n"
     ]
    }
   ],
   "source": [
    "x = tf.constant([[1.0, 2.0], [3.0, 4.0], [5.0, 6.0]], name='x')\n",
    "y = tf.constant([[1.0, 1.0], [0.0, 1.0], [1.0, 1.0]], name='y')\n",
    "\n",
    "stacked_axis0_result = tf.stack([x,y], axis=0)\n",
    "stacked_axis1_result = tf.stack([x,y], axis=1)\n",
    "\n",
    "\n",
    "print(stacked_axis0_result)\n",
    "print(stacked_axis0_result.shape)\n",
    "    \n",
    "print(stacked_axis1_result)\n",
    "print(stacked_axis1_result.shape)"
   ]
  },
  {
   "cell_type": "markdown",
   "id": "f2eb30db-4969-40d0-ae92-788054153757",
   "metadata": {},
   "source": [
    "# TensorFlow Data"
   ]
  },
  {
   "cell_type": "code",
   "execution_count": 25,
   "id": "d2784e44-84df-458a-8e35-c433a879fcab",
   "metadata": {},
   "outputs": [
    {
     "name": "stdout",
     "output_type": "stream",
     "text": [
      "8\n",
      "3\n",
      "0\n",
      "8\n",
      "2\n",
      "1\n"
     ]
    }
   ],
   "source": [
    "dataset = tf.data.Dataset.from_tensor_slices([8, 3, 0, 8, 2, 1])\n",
    "for elem in dataset:\n",
    "    print(elem.numpy())"
   ]
  },
  {
   "cell_type": "code",
   "execution_count": 27,
   "id": "575d9810-582c-446e-aa95-a9714b032b67",
   "metadata": {},
   "outputs": [
    {
     "name": "stdout",
     "output_type": "stream",
     "text": [
      "8\n",
      "3\n",
      "0\n"
     ]
    }
   ],
   "source": [
    "import tensorflow as tf\n",
    "dataset = tf.data.Dataset.from_tensor_slices([8, 3, 0, 8, 2, 1])\n",
    "it = iter(dataset)\n",
    "\n",
    "print(next(it).numpy())\n",
    "print(next(it).numpy())\n",
    "print(next(it).numpy())"
   ]
  },
  {
   "cell_type": "code",
   "execution_count": 28,
   "id": "7985ec1d-fdfc-4fd1-b56f-e9197b9cc44c",
   "metadata": {},
   "outputs": [
    {
     "name": "stdout",
     "output_type": "stream",
     "text": [
      "x: 0, y: 0\n",
      "x: 1, y: 2\n",
      "x: 2, y: 4\n",
      "x: 3, y: 6\n",
      "x: 4, y: 8\n",
      "x: 5, y: 10\n"
     ]
    }
   ],
   "source": [
    "import tensorflow as tf\n",
    "x_data = tf.data.Dataset.from_tensor_slices([0, 1, 2, 3, 4, 5])\n",
    "y_data = tf.data.Dataset.from_tensor_slices([0, 2, 4, 6, 8, 10])\n",
    "\n",
    "for data1, data2 in zip(x_data, y_data):\n",
    "    print('x: {}, y: {}'.format(data1, data2))"
   ]
  },
  {
   "cell_type": "code",
   "execution_count": 30,
   "id": "11512d00-ce91-4180-84cc-5c7bfc7f52b5",
   "metadata": {},
   "outputs": [
    {
     "data": {
      "text/plain": [
       "<TakeDataset shapes: (), types: tf.int32>"
      ]
     },
     "execution_count": 30,
     "metadata": {},
     "output_type": "execute_result"
    }
   ],
   "source": [
    "x_data.take(3)"
   ]
  },
  {
   "cell_type": "code",
   "execution_count": 29,
   "id": "c0fcdd2a-d3ca-4b4a-824e-9e64e4709ee5",
   "metadata": {},
   "outputs": [
    {
     "name": "stdout",
     "output_type": "stream",
     "text": [
      "x: 0, y: 0\n",
      "x: 1, y: 2\n",
      "x: 2, y: 4\n"
     ]
    }
   ],
   "source": [
    "x_data = tf.data.Dataset.from_tensor_slices([0, 1, 2, 3, 4, 5])\n",
    "y_data = tf.data.Dataset.from_tensor_slices([0, 2, 4, 6, 8, 10])\n",
    "\n",
    "for data1, data2 in zip(x_data.take(3), y_data.take(3)):\n",
    "    print('x: {}, y: {}'.format(data1, data2))"
   ]
  },
  {
   "cell_type": "code",
   "execution_count": 32,
   "id": "5aea9f36-c50a-4e2e-9652-0b2c62b043d1",
   "metadata": {},
   "outputs": [
    {
     "name": "stdout",
     "output_type": "stream",
     "text": [
      "tf.Tensor(2.0, shape=(), dtype=float64)\n",
      "tf.Tensor(3.0, shape=(), dtype=float64)\n",
      "tf.Tensor(4.0, shape=(), dtype=float64)\n",
      "tf.Tensor(5.0, shape=(), dtype=float64)\n",
      "tf.Tensor(6.0, shape=(), dtype=float64)\n"
     ]
    }
   ],
   "source": [
    "dataset = tf.data.Dataset.from_tensor_slices(np.array([1.0, 2.0, 3.0, 4.0, 5.0]))\n",
    "dataset = dataset.map(lambda x: x + 1) # 2.0, 3.0, 4.0, 5.0, 6.0\n",
    "for data in dataset:\n",
    "    print(data)\n",
    "#     print(data.numpy())"
   ]
  },
  {
   "cell_type": "code",
   "execution_count": 19,
   "id": "4b57c726-1a0c-4275-9d9a-7424147727a5",
   "metadata": {},
   "outputs": [
    {
     "name": "stdout",
     "output_type": "stream",
     "text": [
      "tf.Tensor(\n",
      "[ 0  1  2  3  4  5  6  7  8  9 10 11 12 13 14 15 16 17 18 19 20 21 22 23\n",
      " 24 25 26 27 28 29 30 31], shape=(32,), dtype=int32)\n",
      "tf.Tensor(\n",
      "[32 33 34 35 36 37 38 39 40 41 42 43 44 45 46 47 48 49 50 51 52 53 54 55\n",
      " 56 57 58 59 60 61 62 63], shape=(32,), dtype=int32)\n",
      "tf.Tensor(\n",
      "[64 65 66 67 68 69 70 71 72 73 74 75 76 77 78 79 80 81 82 83 84 85 86 87\n",
      " 88 89 90 91 92 93 94 95], shape=(32,), dtype=int32)\n",
      "tf.Tensor(\n",
      "[ 96  97  98  99 100 101 102 103 104 105 106 107 108 109 110 111 112 113\n",
      " 114 115 116 117 118 119 120 121 122 123 124 125 126 127], shape=(32,), dtype=int32)\n"
     ]
    }
   ],
   "source": [
    "dataset = tf.data.Dataset.from_tensor_slices(np.arange(128))\n",
    "dataset = dataset.batch(32)\n",
    "for data in dataset:\n",
    "    print(data)"
   ]
  },
  {
   "cell_type": "code",
   "execution_count": 35,
   "id": "42a36cda-b40a-441f-b61b-1591f5ee8c19",
   "metadata": {},
   "outputs": [
    {
     "name": "stdout",
     "output_type": "stream",
     "text": [
      "tf.Tensor(\n",
      "[ 98  22  39  12  99   2  81  38 103  95  17  90 112  70  37  14   6  54\n",
      "  10  33  30  21  68  42  26  27  31 111  62 116  72  69], shape=(32,), dtype=int32)\n",
      "tf.Tensor(\n",
      "[  8  93  96  55  56  58   1  64 109   5  35 114  86  24   7 100  40  60\n",
      "  79  41  85 101 113 108  50 105 119  25  80  61  88  83], shape=(32,), dtype=int32)\n",
      "tf.Tensor(\n",
      "[ 94  46  23 122 102  51  13  91  29  15  74  53 118 121 107  75  76 115\n",
      "  45  71  18  66  89  19  65  59   3  73  97  28  47 126], shape=(32,), dtype=int32)\n",
      "tf.Tensor(\n",
      "[ 67 123  84  52  82  92  32  63  20 124  48  49  77  57   0   9 110 120\n",
      " 125  11 106  87 117 127   4  78  16  43  36  34  44 104], shape=(32,), dtype=int32)\n"
     ]
    }
   ],
   "source": [
    "dataset = tf.data.Dataset.from_tensor_slices(np.arange(128))\n",
    "dataset = dataset.shuffle(200).batch(32) #將128個元素丟到200長度的陣列內，並隨機抽取32個元素當作batch\n",
    "for data in dataset:\n",
    "#     print(data.numpy())\n",
    "    print(data)"
   ]
  },
  {
   "cell_type": "code",
   "execution_count": 36,
   "id": "963afb52-dd8a-4557-95ac-64f3233abcfc",
   "metadata": {},
   "outputs": [
    {
     "name": "stdout",
     "output_type": "stream",
     "text": [
      "tf.Tensor(1, shape=(), dtype=int32)\n",
      "tf.Tensor(2, shape=(), dtype=int32)\n",
      "tf.Tensor(3, shape=(), dtype=int32)\n",
      "tf.Tensor(4, shape=(), dtype=int32)\n",
      "tf.Tensor(5, shape=(), dtype=int32)\n",
      "tf.Tensor(1, shape=(), dtype=int32)\n",
      "tf.Tensor(2, shape=(), dtype=int32)\n",
      "tf.Tensor(3, shape=(), dtype=int32)\n",
      "tf.Tensor(4, shape=(), dtype=int32)\n",
      "tf.Tensor(5, shape=(), dtype=int32)\n",
      "tf.Tensor(1, shape=(), dtype=int32)\n",
      "tf.Tensor(2, shape=(), dtype=int32)\n",
      "tf.Tensor(3, shape=(), dtype=int32)\n",
      "tf.Tensor(4, shape=(), dtype=int32)\n",
      "tf.Tensor(5, shape=(), dtype=int32)\n"
     ]
    }
   ],
   "source": [
    "dataset = tf.data.Dataset.from_tensor_slices([1,2,3,4,5])\n",
    "dataset = dataset.repeat(3) # 全部元素重複3次\n",
    "for i in dataset:\n",
    "    print(i)"
   ]
  },
  {
   "cell_type": "markdown",
   "id": "42adbc53-043e-4749-b580-09f13ae4e880",
   "metadata": {
    "tags": []
   },
   "source": [
    "# Gradient  \n",
    "使用with + GradientTape方法產生梯度向量，並且使用梯度向量物件內的gradient方法實作偏微分"
   ]
  },
  {
   "cell_type": "code",
   "execution_count": 40,
   "id": "dfa9e5d9-3a3b-4fc3-9de8-3cb4c8afe579",
   "metadata": {},
   "outputs": [
    {
     "name": "stdout",
     "output_type": "stream",
     "text": [
      "tf.Tensor([7.389056], shape=(1,), dtype=float32)\n"
     ]
    }
   ],
   "source": [
    "w = tf.Variable(tf.constant([2.0]))\n",
    "\n",
    "with tf.GradientTape() as t:\n",
    "    loss = tf.math.exp(w)\n",
    "#     loss = w * w\n",
    "grad = t.gradient(loss,w)\n",
    "print(grad)\n",
    "\n",
    "#grad = t.gradient(loss,w)"
   ]
  },
  {
   "cell_type": "code",
   "execution_count": 39,
   "id": "39885241-69b0-4a5c-b304-d8fad5186e29",
   "metadata": {},
   "outputs": [
    {
     "name": "stdout",
     "output_type": "stream",
     "text": [
      "tf.Tensor([8.], shape=(1,), dtype=float32)\n",
      "tf.Tensor([81.], shape=(1,), dtype=float32)\n"
     ]
    }
   ],
   "source": [
    "a = tf.Variable(tf.constant([2.0]))\n",
    "b = tf.Variable(tf.constant([3.0]))\n",
    "\n",
    "\n",
    "with tf.GradientTape() as t:\n",
    "    loss = 2*a**2 + 3*b**3\n",
    "grad = t.gradient(loss,[a,b])\n",
    "for i in grad:\n",
    "    print(i)"
   ]
  },
  {
   "cell_type": "code",
   "execution_count": 41,
   "id": "fa7f7aa4-882e-4f1c-ac8c-2a8207f265c4",
   "metadata": {},
   "outputs": [
    {
     "name": "stdout",
     "output_type": "stream",
     "text": [
      "tf.Tensor([22.18071], shape=(1,), dtype=float32)\n"
     ]
    }
   ],
   "source": [
    "w = tf.Variable(tf.constant([2.0]))\n",
    "\n",
    "with tf.GradientTape() as t:\n",
    "    loss = 4**w\n",
    "grad = t.gradient(loss,w)\n",
    "print(grad)"
   ]
  },
  {
   "cell_type": "code",
   "execution_count": 42,
   "id": "8baae4ba-978c-4774-8d64-c99ad4207c63",
   "metadata": {},
   "outputs": [
    {
     "data": {
      "text/plain": [
       "22.18070977791825"
      ]
     },
     "execution_count": 42,
     "metadata": {},
     "output_type": "execute_result"
    }
   ],
   "source": [
    "np.log(4)*4**2"
   ]
  },
  {
   "cell_type": "code",
   "execution_count": 43,
   "id": "306f84eb-5fbf-466d-97fb-fa157c8e7784",
   "metadata": {},
   "outputs": [
    {
     "name": "stdout",
     "output_type": "stream",
     "text": [
      "tf.Tensor([4.], shape=(1,), dtype=float32)\n",
      "tf.Tensor([4.], shape=(1,), dtype=float32)\n"
     ]
    }
   ],
   "source": [
    "w = tf.Variable(tf.constant([2.0]))\n",
    "\n",
    "# 加了persistent=True才能重複使用這個t物件，否則用完即丟\n",
    "with tf.GradientTape(persistent=True) as t:\n",
    "    loss = w * w\n",
    "grad = t.gradient(loss,w)\n",
    "print(grad)\n",
    "grad = t.gradient(loss,w)\n",
    "print(grad)\n",
    "del t"
   ]
  },
  {
   "cell_type": "code",
   "execution_count": 44,
   "id": "80df91fd-9c5f-40b1-910e-bba122c6cbe3",
   "metadata": {},
   "outputs": [
    {
     "name": "stdout",
     "output_type": "stream",
     "text": [
      "tf.Tensor([4.], shape=(1,), dtype=float32)\n"
     ]
    }
   ],
   "source": [
    "w = tf.constant([2.0])\n",
    "\n",
    "with tf.GradientTape() as t:\n",
    "    t.watch(w) # 非tf.variable的話就要加上 watch才能微分\n",
    "    loss = w * w\n",
    "grad = t.gradient(loss,w)\n",
    "print(grad)\n",
    "\n",
    "#grad = t.gradient(loss,w)"
   ]
  }
 ],
 "metadata": {
  "kernelspec": {
   "display_name": "Python 3 (ipykernel)",
   "language": "python",
   "name": "python3"
  },
  "language_info": {
   "codemirror_mode": {
    "name": "ipython",
    "version": 3
   },
   "file_extension": ".py",
   "mimetype": "text/x-python",
   "name": "python",
   "nbconvert_exporter": "python",
   "pygments_lexer": "ipython3",
   "version": "3.8.13"
  }
 },
 "nbformat": 4,
 "nbformat_minor": 5
}
