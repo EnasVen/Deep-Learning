{
 "cells": [
  {
   "cell_type": "markdown",
   "id": "eca88df8-dc4d-47e7-ac31-da476621e621",
   "metadata": {},
   "source": [
    "## MNIST 使用\n",
    "MNIST is a computer vision dataset. It consists of black and white images from zero to nine. Each image is 28 * 28. Also, it includes labels for each image, telling us which digit it is.\n",
    "\n",
    "![Alt text](./images/dnn_implement/Selection_017.png)\n",
    "![Alt text](./images/dnn_implement/Selection_018.png)\n"
   ]
  },
  {
   "cell_type": "code",
   "execution_count": 1,
   "id": "41d8284d-e0d7-47d1-b872-dcf19bf8a670",
   "metadata": {},
   "outputs": [
    {
     "name": "stdout",
     "output_type": "stream",
     "text": [
      "Downloading data from https://storage.googleapis.com/tensorflow/tf-keras-datasets/mnist.npz\n",
      "11493376/11490434 [==============================] - 1s 0us/step\n",
      "(60000, 28, 28)\n",
      "(60000,)\n",
      "[5 0 4 ... 5 6 8]\n"
     ]
    }
   ],
   "source": [
    "from tensorflow import keras\n",
    "from tensorflow.keras import layers\n",
    "import matplotlib.pyplot as plt\n",
    "\n",
    "(x_train, y_train), (x_test, y_test) = keras.datasets.mnist.load_data()\n",
    "\n",
    "print(x_train.shape)\n",
    "print(y_train.shape)\n",
    "print(y_train)"
   ]
  },
  {
   "cell_type": "code",
   "execution_count": 2,
   "id": "10a1fd1a-0f68-4347-b6d7-1d0a1d504151",
   "metadata": {},
   "outputs": [
    {
     "data": {
      "image/png": "[encoded data removed]",
      "text/plain": [
       "<Figure size 432x288 with 1 Axes>"
      ]
     },
     "metadata": {
      "needs_background": "light"
     },
     "output_type": "display_data"
    }
   ],
   "source": [
    "plt.figure()\n",
    "plt.imshow(x_train[0])\n",
    "\n",
    "plt.show()"
   ]
  },
  {
   "cell_type": "code",
   "execution_count": 2,
   "id": "82aee41a-0605-45a8-a0fc-9c511e10a024",
   "metadata": {},
   "outputs": [
    {
     "name": "stdout",
     "output_type": "stream",
     "text": [
      "x_train shape: (60000, 784)\n",
      "x_test shape: (10000, 784)\n",
      "y_train shape: (60000,)\n",
      "y_test shape: (10000,)\n"
     ]
    }
   ],
   "source": [
    "x_train = x_train.reshape([x_train.shape[0], 28*28])\n",
    "x_test = x_test.reshape([x_test.shape[0], 28*28])\n",
    "print('x_train shape: {}'.format(x_train.shape))\n",
    "print('x_test shape: {}'.format(x_test.shape))\n",
    "print('y_train shape: {}'.format(y_train.shape))\n",
    "print('y_test shape: {}'.format(y_test.shape))"
   ]
  },
  {
   "cell_type": "markdown",
   "id": "b4507875-c567-412c-84cd-4dee06c34c71",
   "metadata": {},
   "source": [
    "# 建立DNN網路模型 \n",
    "TensorFlow產生DNN的寫法"
   ]
  },
  {
   "cell_type": "code",
   "execution_count": 9,
   "id": "01f7d815-3305-4ada-9d4a-efc04d11515c",
   "metadata": {},
   "outputs": [
    {
     "name": "stdout",
     "output_type": "stream",
     "text": [
      "tf.Tensor(\n",
      "[[0.09365687 0.15485688 0.12811404 0.02967936 0.04417886 0.03111425\n",
      "  0.0498021  0.12320989 0.2763345  0.06905318]\n",
      " [0.15970448 0.10490821 0.15708432 0.03440432 0.05480285 0.0501827\n",
      "  0.0319369  0.10031814 0.2531158  0.05354224]\n",
      " [0.08560909 0.16857977 0.10968477 0.09042832 0.04178071 0.05999758\n",
      "  0.08710173 0.12890552 0.16259614 0.06531633]\n",
      " [0.14848343 0.20813157 0.10417087 0.0705237  0.04526785 0.05870502\n",
      "  0.04280221 0.09970608 0.1377503  0.08445895]\n",
      " [0.13356504 0.13049458 0.10276928 0.03913295 0.04549072 0.05084281\n",
      "  0.06201583 0.09144097 0.2625242  0.08172364]], shape=(5, 10), dtype=float32)\n",
      "(5, 10)\n",
      "<tf.Variable 'mlp/dense_3/kernel:0' shape=(784, 100) dtype=float32, numpy=\n",
      "array([[ 0.02024906,  0.00670443,  0.0556594 , ...,  0.03752351,\n",
      "         0.05802417,  0.02390353],\n",
      "       [-0.00723954, -0.05080343, -0.00284882, ...,  0.01261727,\n",
      "        -0.03333433, -0.00287825],\n",
      "       [-0.082204  ,  0.03700937,  0.06952223, ..., -0.01945987,\n",
      "         0.06758511,  0.01690879],\n",
      "       ...,\n",
      "       [ 0.02224182, -0.07591153,  0.07447618, ..., -0.00785563,\n",
      "        -0.02374218,  0.07348464],\n",
      "       [ 0.0632907 ,  0.00179671, -0.07718864, ..., -0.07924013,\n",
      "        -0.00483382,  0.01529326],\n",
      "       [ 0.02833095, -0.02670613, -0.06206244, ..., -0.02542291,\n",
      "         0.07939558, -0.05721962]], dtype=float32)>\n",
      "<tf.Variable 'mlp/dense_3/bias:0' shape=(100,) dtype=float32, numpy=\n",
      "array([0., 0., 0., 0., 0., 0., 0., 0., 0., 0., 0., 0., 0., 0., 0., 0., 0.,\n",
      "       0., 0., 0., 0., 0., 0., 0., 0., 0., 0., 0., 0., 0., 0., 0., 0., 0.,\n",
      "       0., 0., 0., 0., 0., 0., 0., 0., 0., 0., 0., 0., 0., 0., 0., 0., 0.,\n",
      "       0., 0., 0., 0., 0., 0., 0., 0., 0., 0., 0., 0., 0., 0., 0., 0., 0.,\n",
      "       0., 0., 0., 0., 0., 0., 0., 0., 0., 0., 0., 0., 0., 0., 0., 0., 0.,\n",
      "       0., 0., 0., 0., 0., 0., 0., 0., 0., 0., 0., 0., 0., 0., 0.],\n",
      "      dtype=float32)>\n"
     ]
    }
   ],
   "source": [
    "import numpy as np\n",
    "from tensorflow import keras\n",
    "import tensorflow as tf\n",
    "\n",
    "class MNISTLoader():\n",
    "    def __init__(self):\n",
    "        mnist = tf.keras.datasets.mnist\n",
    "        (self.train_data, self.train_label), (self.test_data, self.test_label) = mnist.load_data()\n",
    "\n",
    "        self.train_data = np.expand_dims(self.train_data.astype(np.float32) / 255.0, axis=-1)      # [60000, 28, 28, 1]\n",
    "        self.test_data = np.expand_dims(self.test_data.astype(np.float32) / 255.0, axis=-1)        # [10000, 28, 28, 1]\n",
    "        self.train_label = self.train_label.astype(np.int32)    # [60000]\n",
    "        self.test_label = self.test_label.astype(np.int32)      # [10000]\n",
    "        self.num_train_data, self.num_test_data = self.train_data.shape[0], self.test_data.shape[0]\n",
    "\n",
    "    def get_batch(self, batch_size):\n",
    "\n",
    "        index = np.random.randint(0, self.num_train_data, batch_size)\n",
    "        return self.train_data[index, :], self.train_label[index]\n",
    "\n",
    "# 繼承class\n",
    "class MLP(tf.keras.Model):\n",
    "    def __init__(self):\n",
    "        super().__init__()\n",
    "        self.flatten = tf.keras.layers.Flatten()    \n",
    "        self.dense1 = tf.keras.layers.Dense(units=100, activation=tf.nn.relu)\n",
    "        self.dense2 = tf.keras.layers.Dense(units=10)\n",
    "\n",
    "    def call(self, inputs):         # [batch_size, 28, 28, 1]\n",
    "        x = self.flatten(inputs)    # [batch_size, 784]\n",
    "        x = self.dense1(x)          # [batch_size, 100]\n",
    "        x = self.dense2(x)          # [batch_size, 10]\n",
    "        output = tf.nn.softmax(x)\n",
    "        return output\n",
    "\n",
    "batch_size = 5\n",
    "\n",
    "# 雖然是隨機取5筆，沒有辦法run完所有train data達成1 epoch，但是只要是均勻取出，隨機也ok\n",
    "data_loader = MNISTLoader()\n",
    "model = MLP()\n",
    "\n",
    "X, y = data_loader.get_batch(batch_size)\n",
    "with tf.GradientTape() as tape:\n",
    "    y_pred = model(X)\n",
    "    print(y_pred)\n",
    "    print(y_pred.shape)\n",
    "    \n",
    "print(model.dense1.weights[0])\n",
    "print(model.dense1.weights[1])"
   ]
  }
 ],
 "metadata": {
  "kernelspec": {
   "display_name": "Python 3 (ipykernel)",
   "language": "python",
   "name": "python3"
  },
  "language_info": {
   "codemirror_mode": {
    "name": "ipython",
    "version": 3
   },
   "file_extension": ".py",
   "mimetype": "text/x-python",
   "name": "python",
   "nbconvert_exporter": "python",
   "pygments_lexer": "ipython3",
   "version": "3.8.13"
  }
 },
 "nbformat": 4,
 "nbformat_minor": 5
}
