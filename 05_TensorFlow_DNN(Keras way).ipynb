{
 "cells": [
  {
   "cell_type": "markdown",
   "id": "f63b83ec-6121-4515-9de5-a93e0f6f8290",
   "metadata": {},
   "source": [
    "## MNIST 使用\n",
    "MNIST is a computer vision dataset. It consists of black and white images from zero to nine. Each image is 28 * 28. Also, it includes labels for each image, telling us which digit it is.\n",
    "\n",
    "![Alt text](./images/dnn_implement/Selection_017.png)\n",
    "![Alt text](./images/dnn_implement/Selection_018.png)\n"
   ]
  },
  {
   "cell_type": "code",
   "execution_count": 1,
   "id": "288c3509-6cfe-4fa8-b93a-2d8d4148e901",
   "metadata": {},
   "outputs": [
    {
     "name": "stdout",
     "output_type": "stream",
     "text": [
      "Downloading data from https://storage.googleapis.com/tensorflow/tf-keras-datasets/mnist.npz\n",
      "11493376/11490434 [==============================] - 1s 0us/step\n",
      "(60000, 28, 28)\n",
      "(60000,)\n",
      "[5 0 4 ... 5 6 8]\n"
     ]
    }
   ],
   "source": [
    "from tensorflow import keras\n",
    "from tensorflow.keras import layers\n",
    "import matplotlib.pyplot as plt\n",
    "\n",
    "(x_train, y_train), (x_test, y_test) = keras.datasets.mnist.load_data()\n",
    "\n",
    "print(x_train.shape)\n",
    "print(y_train.shape)\n",
    "print(y_train)"
   ]
  },
  {
   "cell_type": "code",
   "execution_count": 2,
   "id": "b950679e-7c5f-40dc-97ff-e9c4a3453639",
   "metadata": {},
   "outputs": [
    {
     "data": {
      "image/png": "[encoded data removed]",
      "text/plain": [
       "<Figure size 432x288 with 1 Axes>"
      ]
     },
     "metadata": {
      "needs_background": "light"
     },
     "output_type": "display_data"
    }
   ],
   "source": [
    "plt.figure()\n",
    "plt.imshow(x_train[0])\n",
    "\n",
    "plt.show()"
   ]
  },
  {
   "cell_type": "code",
   "execution_count": 2,
   "id": "2f1cf8dc-9877-4b4f-abdc-065457d84542",
   "metadata": {},
   "outputs": [
    {
     "name": "stdout",
     "output_type": "stream",
     "text": [
      "x_train shape: (60000, 784)\n",
      "x_test shape: (10000, 784)\n",
      "y_train shape: (60000,)\n",
      "y_test shape: (10000,)\n"
     ]
    }
   ],
   "source": [
    "x_train = x_train.reshape([x_train.shape[0], 28*28])\n",
    "x_test = x_test.reshape([x_test.shape[0], 28*28])\n",
    "print('x_train shape: {}'.format(x_train.shape))\n",
    "print('x_test shape: {}'.format(x_test.shape))\n",
    "print('y_train shape: {}'.format(y_train.shape))\n",
    "print('y_test shape: {}'.format(y_test.shape))"
   ]
  },
  {
   "cell_type": "markdown",
   "id": "1646678e-47ab-4899-8709-fa2111ba1dbc",
   "metadata": {},
   "source": [
    "# 建立DNN網路模型(keras)\n",
    "Keras產生DNN的寫法"
   ]
  },
  {
   "cell_type": "code",
   "execution_count": 8,
   "id": "032fcaa0-3493-43b3-9ca8-ac68030a479e",
   "metadata": {},
   "outputs": [
    {
     "name": "stdout",
     "output_type": "stream",
     "text": [
      "Model: \"sequential\"\n",
      "_________________________________________________________________\n",
      "Layer (type)                 Output Shape              Param #   \n",
      "=================================================================\n",
      "dense (Dense)                (None, 32)                25120     \n",
      "_________________________________________________________________\n",
      "dense_1 (Dense)              (None, 64)                2112      \n",
      "_________________________________________________________________\n",
      "dense_2 (Dense)              (None, 10)                650       \n",
      "=================================================================\n",
      "Total params: 27,882\n",
      "Trainable params: 27,882\n",
      "Non-trainable params: 0\n",
      "_________________________________________________________________\n"
     ]
    }
   ],
   "source": [
    "from tensorflow import keras\n",
    "import tensorflow as tf\n",
    "from tensorflow.keras import layers\n",
    "import matplotlib.pyplot as plt\n",
    "tf.compat.v1.reset_default_graph()\n",
    "\n",
    "(x_train, y_train), (x_test, y_test) = keras.datasets.mnist.load_data()\n",
    "\n",
    "# 初始化每一層的weight and bias\n",
    "#initializer = tf.keras.initializers.RandomNormal(mean=0., stddev=1., seed=1)\n",
    "initializer = tf.keras.initializers.TruncatedNormal(mean=0.0, stddev=0.05, seed=1)\n",
    "\n",
    "model = keras.Sequential([\n",
    "    layers.Dense(32, activation='relu', input_shape=(784,)),  # 784 * 32 + 32 = 25120\n",
    "    layers.Dense(64, activation='relu'), # 32 * 64 + 64 = 2112\n",
    "#    layers.Dense(64, activation='relu', kernel_initializer=initializer, bias_initializer=initializer),\n",
    "    layers.Dense(10, activation='softmax')\n",
    "])\n",
    "\n",
    "\n",
    "'''\n",
    "model = tf.keras.Sequential()\n",
    "model.add(layers.Dense(32, activation='relu', input_shape=(784,)))\n",
    "model.add(layers.Dense(64, activation='relu'))\n",
    "model.add(layers.Dense(10, activation='softmax'))\n",
    "'''\n",
    "\n",
    "model.summary()"
   ]
  },
  {
   "cell_type": "code",
   "execution_count": 9,
   "id": "395a64c3-99e6-492c-8239-9c753aee6741",
   "metadata": {},
   "outputs": [
    {
     "name": "stdout",
     "output_type": "stream",
     "text": [
      "print layer1 weights:\n",
      "(784, 32)\n",
      "<tf.Variable 'dense/kernel:0' shape=(784, 32) dtype=float32, numpy=\n",
      "array([[ 0.06304456, -0.03081895, -0.03522585, ...,  0.03094558,\n",
      "        -0.05021991,  0.05623629],\n",
      "       [-0.01084306, -0.04016816, -0.08133246, ..., -0.01093137,\n",
      "         0.01771715, -0.00773857],\n",
      "       [-0.03557955, -0.04812775, -0.05601905, ...,  0.04703157,\n",
      "         0.02833052, -0.0647322 ],\n",
      "       ...,\n",
      "       [-0.02646298,  0.01623353,  0.07820474, ..., -0.00779957,\n",
      "         0.04880919,  0.06280675],\n",
      "       [-0.06045065,  0.08513375,  0.01628912, ...,  0.0309859 ,\n",
      "         0.08469874,  0.01522064],\n",
      "       [ 0.00294255,  0.08057817,  0.05965958, ...,  0.06926911,\n",
      "        -0.06268469,  0.02076287]], dtype=float32)>\n",
      "print layer1 bias:\n",
      "(32,)\n",
      "<tf.Variable 'dense/bias:0' shape=(32,) dtype=float32, numpy=\n",
      "array([0., 0., 0., 0., 0., 0., 0., 0., 0., 0., 0., 0., 0., 0., 0., 0., 0.,\n",
      "       0., 0., 0., 0., 0., 0., 0., 0., 0., 0., 0., 0., 0., 0., 0.],\n",
      "      dtype=float32)>\n"
     ]
    }
   ],
   "source": [
    "print('print layer1 weights:')\n",
    "print(model.layers[0].weights[0].shape)\n",
    "print(model.layers[0].weights[0])\n",
    "print('print layer1 bias:')\n",
    "print(model.layers[0].weights[1].shape)\n",
    "print(model.layers[0].weights[1])\n",
    "\n"
   ]
  },
  {
   "cell_type": "code",
   "execution_count": 7,
   "id": "e5c561a9-e67b-4ad9-aad7-40e28079554f",
   "metadata": {},
   "outputs": [
    {
     "name": "stdout",
     "output_type": "stream",
     "text": [
      "print layer2 weights:\n",
      "(1, 32)\n",
      "<tf.Variable 'hidden1/kernel:0' shape=(1, 32) dtype=float32, numpy=\n",
      "array([[-0.30262387, -0.22843538,  0.1718741 , -0.11753979,  0.05468857,\n",
      "         0.19140345, -0.30980945, -0.1874424 ,  0.23347956, -0.15596032,\n",
      "         0.27600586,  0.40879035, -0.28727514,  0.13870525,  0.23271477,\n",
      "        -0.4082627 ,  0.20746142,  0.23282605, -0.42500582,  0.11801529,\n",
      "        -0.24714546,  0.24695426, -0.03640985, -0.1842062 , -0.06171352,\n",
      "        -0.28329465, -0.29629773,  0.21348202,  0.4165088 , -0.01682699,\n",
      "        -0.13150796,  0.1728763 ]], dtype=float32)>\n",
      "print layer2 bias:\n",
      "(32,)\n",
      "<tf.Variable 'hidden1/bias:0' shape=(32,) dtype=float32, numpy=\n",
      "array([0., 0., 0., 0., 0., 0., 0., 0., 0., 0., 0., 0., 0., 0., 0., 0., 0.,\n",
      "       0., 0., 0., 0., 0., 0., 0., 0., 0., 0., 0., 0., 0., 0., 0.],\n",
      "      dtype=float32)>\n"
     ]
    }
   ],
   "source": [
    "print('print layer2 weights:')\n",
    "print(model.layers[1].weights[0].shape)\n",
    "print(model.layers[1].weights[0])\n",
    "print('print layer2 bias:')\n",
    "print(model.layers[1].weights[1].shape)\n",
    "print(model.layers[1].weights[1])"
   ]
  }
 ],
 "metadata": {
  "kernelspec": {
   "display_name": "Python 3 (ipykernel)",
   "language": "python",
   "name": "python3"
  },
  "language_info": {
   "codemirror_mode": {
    "name": "ipython",
    "version": 3
   },
   "file_extension": ".py",
   "mimetype": "text/x-python",
   "name": "python",
   "nbconvert_exporter": "python",
   "pygments_lexer": "ipython3",
   "version": "3.8.13"
  }
 },
 "nbformat": 4,
 "nbformat_minor": 5
}
