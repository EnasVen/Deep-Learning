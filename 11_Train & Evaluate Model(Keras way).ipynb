{
 "cells": [
  {
   "cell_type": "markdown",
   "id": "a7c72db3-3ed5-460b-97d5-52ac2a021a21",
   "metadata": {},
   "source": [
    "# Metric\n",
    "使用keras.metrics.Accuracy物件的update_state + result()方法來計算準確度"
   ]
  },
  {
   "cell_type": "code",
   "execution_count": 5,
   "id": "fc08ceec-27b3-4cbe-9661-a651cfd63dbb",
   "metadata": {},
   "outputs": [
    {
     "name": "stdout",
     "output_type": "stream",
     "text": [
      "0.75\n",
      "0.6\n"
     ]
    }
   ],
   "source": [
    "import tensorflow as tf\n",
    "import numpy as np\n",
    "m = tf.keras.metrics.Accuracy() \n",
    "_ = m.update_state([1, 2, 3, 4], [0, 2, 3, 4]) \n",
    "\n",
    "print(m.result().numpy()) \n",
    "\n",
    "# m.reset_states() 不重製的話  會接續下去算，也就是[1, 2, 3, 4, 1, 2, 3, 4] vs [0, 2, 3, 4, 0, 0, 3, 4]\n",
    "_ = m.update_state([1, 2, 3, 4], [0, 0, 3, 4]) \n",
    "\n",
    "# sample weight = 0 代表不計入此sample\n",
    "_ = m.update_state([1, 2, 3, 4], [0, 2, 3, 4], \n",
    "                    sample_weight=[1, 1, 0, 0]) \n",
    "print(m.result().numpy()) \n"
   ]
  },
  {
   "cell_type": "code",
   "execution_count": 2,
   "id": "be5bb111-5a11-4ac9-a1cc-170435ca86c6",
   "metadata": {},
   "outputs": [
    {
     "data": {
      "text/plain": [
       "tensorflow.python.keras.metrics.Accuracy"
      ]
     },
     "execution_count": 2,
     "metadata": {},
     "output_type": "execute_result"
    }
   ],
   "source": [
    "type(m)"
   ]
  },
  {
   "cell_type": "code",
   "execution_count": 3,
   "id": "f9a61128-b4fa-4b56-ba56-fa601910ec08",
   "metadata": {},
   "outputs": [
    {
     "name": "stdout",
     "output_type": "stream",
     "text": [
      "0.5\n",
      "0.75\n"
     ]
    }
   ],
   "source": [
    "m = tf.keras.metrics.CategoricalAccuracy() \n",
    "# 前2個array但代表真實數據為第2類,第1類；後2筆數據代表預測機率最高的是第幾類，分別是第1類與第2類\n",
    "# _ = m.update_state([[0, 0, 1], [0, 1, 0]], [[0.1, 0.9, 0.8], \n",
    "#                     [0.05, 0.95, 0]]) \n",
    "_ = m.update_state([[0, 0, 1], [0, 1, 0]], [[0.1, 0.1, 0.8], \n",
    "                    [0.5, 0.5, 0]]) \n",
    "print(m.result().numpy()) \n",
    "\n",
    "#m.reset_states() \n",
    "\n",
    "_ = m.update_state([[0, 1,0], [0, 1, 0]], [[0.1, 0.9, 0.8], \n",
    "                    [0.05, 0.95, 0]]) \n",
    "print(m.result().numpy()) "
   ]
  },
  {
   "cell_type": "code",
   "execution_count": 4,
   "id": "c3993b9c-d270-4ccc-ace4-e69ea05911b5",
   "metadata": {},
   "outputs": [
    {
     "name": "stdout",
     "output_type": "stream",
     "text": [
      "1.0\n",
      "0.5\n"
     ]
    }
   ],
   "source": [
    "m = tf.keras.metrics.SparseCategoricalAccuracy() \n",
    "# _ = m.update_state([[2], [1]], [[0.1, 0.9, 0.8], [0.05, 0.95, 0]]) \n",
    "# _ = m.update_state([2,1], [[0.1, 0.9, 0.8], [0.05, 0.95, 0]]) \n",
    "_ = m.update_state([1,1], [[0.1, 0.9, 0.8], [0.05, 0.95, 0]]) \n",
    "\n",
    "print(m.result().numpy())\n",
    "\n",
    "#m.reset_states() \n",
    "\n",
    "_ = m.update_state([[0], [0]], [[0.1, 0.9, 0.8], [0.05, 0.95, 0]]) \n",
    "print(m.result().numpy())"
   ]
  },
  {
   "cell_type": "code",
   "execution_count": 5,
   "id": "7e27e043-c9bb-4036-88a0-30284e83fd78",
   "metadata": {},
   "outputs": [
    {
     "name": "stdout",
     "output_type": "stream",
     "text": [
      "1.1769392\n",
      "0.65707886\n"
     ]
    }
   ],
   "source": [
    "m = tf.keras.metrics.CategoricalCrossentropy()\n",
    "m.update_state([[0, 1, 0], [0, 0, 1]],\n",
    "               [[0.05, 0.95, 0], [0.1, 0.8, 0.1]])\n",
    "'''\n",
    "# EPSILON = 1e-7, y = y_true, y` = y_pred\n",
    "# y` = clip_ops.clip_by_value(output, EPSILON, 1. - EPSILON)\n",
    "# y` = [[0.05, 0.95, EPSILON], [0.1, 0.8, 0.1]]\n",
    "\n",
    "# xent = -sum(y * log(y'), axis = -1)\n",
    "#      = ((-log 0.95), (-log 0.1))\n",
    "#      = [0.051, 2.302]\n",
    "# Reduced mean = (0.051 + 2.302) / 2\n",
    "'''\n",
    "print(m.result().numpy()) \n",
    "\n",
    "\n",
    "#m.reset_states() \n",
    "\n",
    "m.update_state([[0, 1, 0], [0, 1, 0]],\n",
    "               [[0.05, 0.95, 0], [0.1, 0.8, 0.1]])\n",
    "\n",
    "print(m.result().numpy()) "
   ]
  },
  {
   "cell_type": "code",
   "execution_count": 6,
   "id": "e61f79bc-a6bb-4bce-bb15-b9be2d2baab7",
   "metadata": {},
   "outputs": [
    {
     "name": "stdout",
     "output_type": "stream",
     "text": [
      "1.1769392\n",
      "1.913049\n"
     ]
    }
   ],
   "source": [
    "# 計算 cross entropy\n",
    "# 注意加了Sparse代表原始數據沒有做one hot encoding\n",
    "m = tf.keras.metrics.SparseCategoricalCrossentropy()\n",
    "m.update_state(\n",
    "  [1, 2],\n",
    "  [[0.05, 0.95, 0], [0.1, 0.8, 0.1]])\n",
    "\n",
    "print(m.result().numpy())  \n",
    "\n",
    "#m.reset_states() \n",
    "\n",
    "m.update_state(\n",
    "  [0, 0],\n",
    "  [[0.05, 0.95, 0], [0.1, 0.8, 0.1]])\n",
    "\n",
    "print(m.result().numpy())  "
   ]
  },
  {
   "cell_type": "markdown",
   "id": "986913a1-6507-46d4-acd2-a28a65369e4c",
   "metadata": {},
   "source": [
    "# DNN神經網路訓練及驗證(Keras版本)"
   ]
  },
  {
   "cell_type": "code",
   "execution_count": 1,
   "id": "83ad77b3-406d-401a-97a8-4aacc1f3c0dc",
   "metadata": {},
   "outputs": [
    {
     "name": "stdout",
     "output_type": "stream",
     "text": [
      "(60000, 784)   (60000,)\n",
      "(10000, 784)   (10000,)\n",
      "Model: \"sequential\"\n",
      "_________________________________________________________________\n",
      "Layer (type)                 Output Shape              Param #   \n",
      "=================================================================\n",
      "dense (Dense)                (None, 64)                50240     \n",
      "_________________________________________________________________\n",
      "dense_1 (Dense)              (None, 64)                4160      \n",
      "_________________________________________________________________\n",
      "dense_2 (Dense)              (None, 64)                4160      \n",
      "_________________________________________________________________\n",
      "dense_3 (Dense)              (None, 10)                650       \n",
      "=================================================================\n",
      "Total params: 59,210\n",
      "Trainable params: 59,210\n",
      "Non-trainable params: 0\n",
      "_________________________________________________________________\n"
     ]
    }
   ],
   "source": [
    "import tensorflow as tf\n",
    "from tensorflow import keras\n",
    "from tensorflow.keras import layers\n",
    "tf.compat.v1.reset_default_graph()\n",
    "\n",
    "(x_train, y_train), (x_test, y_test) = keras.datasets.mnist.load_data()\n",
    "x_train = x_train.reshape([x_train.shape[0], -1])\n",
    "x_test = x_test.reshape([x_test.shape[0], -1])\n",
    "print(x_train.shape, ' ', y_train.shape)\n",
    "print(x_test.shape, ' ', y_test.shape)\n",
    "\n",
    "model = keras.Sequential([\n",
    "    layers.Dense(64, activation='relu', input_shape=(784,)),\n",
    "    layers.Dense(64, activation='relu'),\n",
    "    layers.Dense(64, activation='relu'),\n",
    "    layers.Dense(10, activation='softmax')\n",
    "])\n",
    "\n",
    "\n",
    "#keras.optimizers.Adagrad(learning_rate=0.01)\n",
    "#keras.optimizers.Adam(learning_rate=0.01)\n",
    "#keras.optimizers.RMSprop(learning_rate=0.01)\n",
    "\n",
    "# provide labels as one_hot representation => tf.keras.losses.CategoricalCrossentropy\n",
    "# provide labels as integers => tf.keras.losses.SparseCategoricalCrossentropy \n",
    "model.compile(optimizer=keras.optimizers.Adam(),\n",
    "             loss=keras.losses.SparseCategoricalCrossentropy(),\n",
    "             metrics=['accuracy'])\n",
    "model.summary()"
   ]
  },
  {
   "cell_type": "code",
   "execution_count": 2,
   "id": "e5bf7a13-fed1-4827-8977-f7940aba8580",
   "metadata": {},
   "outputs": [
    {
     "name": "stdout",
     "output_type": "stream",
     "text": [
      "Epoch 1/100\n",
      "165/165 - 0s - loss: 3.2348 - accuracy: 0.7330 - val_loss: 0.8849 - val_accuracy: 0.8460\n",
      "Epoch 2/100\n",
      "165/165 - 0s - loss: 0.6075 - accuracy: 0.8750 - val_loss: 0.5154 - val_accuracy: 0.8899\n",
      "Epoch 3/100\n",
      "165/165 - 0s - loss: 0.3743 - accuracy: 0.9108 - val_loss: 0.4149 - val_accuracy: 0.9065\n",
      "Epoch 4/100\n",
      "165/165 - 0s - loss: 0.2713 - accuracy: 0.9288 - val_loss: 0.3534 - val_accuracy: 0.9192\n",
      "Epoch 5/100\n",
      "165/165 - 0s - loss: 0.2124 - accuracy: 0.9405 - val_loss: 0.3379 - val_accuracy: 0.9226\n",
      "Epoch 6/100\n",
      "165/165 - 0s - loss: 0.1763 - accuracy: 0.9500 - val_loss: 0.3109 - val_accuracy: 0.9300\n",
      "Epoch 7/100\n",
      "165/165 - 0s - loss: 0.1491 - accuracy: 0.9558 - val_loss: 0.2952 - val_accuracy: 0.9339\n",
      "Epoch 8/100\n",
      "165/165 - 0s - loss: 0.1308 - accuracy: 0.9606 - val_loss: 0.2871 - val_accuracy: 0.9343\n",
      "Epoch 9/100\n",
      "165/165 - 0s - loss: 0.1140 - accuracy: 0.9646 - val_loss: 0.2831 - val_accuracy: 0.9383\n",
      "Epoch 10/100\n",
      "165/165 - 0s - loss: 0.0999 - accuracy: 0.9687 - val_loss: 0.2732 - val_accuracy: 0.9395\n",
      "Epoch 11/100\n",
      "165/165 - 0s - loss: 0.0908 - accuracy: 0.9715 - val_loss: 0.2764 - val_accuracy: 0.9408\n",
      "Epoch 12/100\n",
      "165/165 - 0s - loss: 0.0846 - accuracy: 0.9729 - val_loss: 0.2742 - val_accuracy: 0.9438\n",
      "Epoch 13/100\n",
      "165/165 - 0s - loss: 0.0755 - accuracy: 0.9759 - val_loss: 0.3050 - val_accuracy: 0.9375\n",
      "Epoch 14/100\n",
      "165/165 - 0s - loss: 0.0925 - accuracy: 0.9704 - val_loss: 0.2683 - val_accuracy: 0.9452\n",
      "Epoch 15/100\n",
      "165/165 - 0s - loss: 0.0713 - accuracy: 0.9778 - val_loss: 0.2689 - val_accuracy: 0.9487\n",
      "Epoch 16/100\n",
      "165/165 - 0s - loss: 0.0591 - accuracy: 0.9797 - val_loss: 0.3334 - val_accuracy: 0.9391\n",
      "Epoch 17/100\n",
      "165/165 - 0s - loss: 0.0797 - accuracy: 0.9746 - val_loss: 0.2940 - val_accuracy: 0.9448\n",
      "Epoch 18/100\n",
      "165/165 - 0s - loss: 0.0647 - accuracy: 0.9785 - val_loss: 0.2650 - val_accuracy: 0.9504\n",
      "Epoch 19/100\n",
      "165/165 - 0s - loss: 0.0542 - accuracy: 0.9822 - val_loss: 0.2839 - val_accuracy: 0.9498\n",
      "Epoch 20/100\n",
      "165/165 - 0s - loss: 0.0479 - accuracy: 0.9840 - val_loss: 0.2823 - val_accuracy: 0.9501\n",
      "Epoch 21/100\n",
      "165/165 - 0s - loss: 0.0561 - accuracy: 0.9821 - val_loss: 0.2753 - val_accuracy: 0.9512\n",
      "Epoch 22/100\n",
      "165/165 - 0s - loss: 0.0545 - accuracy: 0.9820 - val_loss: 0.2759 - val_accuracy: 0.9517\n",
      "Epoch 23/100\n",
      "165/165 - 0s - loss: 0.0480 - accuracy: 0.9846 - val_loss: 0.2805 - val_accuracy: 0.9520\n",
      "Epoch 24/100\n",
      "165/165 - 0s - loss: 0.0413 - accuracy: 0.9863 - val_loss: 0.2934 - val_accuracy: 0.9518\n",
      "Epoch 25/100\n",
      "165/165 - 0s - loss: 0.0392 - accuracy: 0.9875 - val_loss: 0.3012 - val_accuracy: 0.9550\n",
      "Epoch 26/100\n",
      "165/165 - 0s - loss: 0.0508 - accuracy: 0.9839 - val_loss: 0.3270 - val_accuracy: 0.9487\n",
      "Epoch 27/100\n",
      "165/165 - 0s - loss: 0.0930 - accuracy: 0.9757 - val_loss: 0.2789 - val_accuracy: 0.9566\n",
      "Epoch 28/100\n",
      "165/165 - 0s - loss: 0.0737 - accuracy: 0.9789 - val_loss: 0.2970 - val_accuracy: 0.9520\n",
      "Epoch 29/100\n",
      "165/165 - 0s - loss: 0.0747 - accuracy: 0.9785 - val_loss: 0.3224 - val_accuracy: 0.9486\n",
      "Epoch 30/100\n",
      "165/165 - 0s - loss: 0.0813 - accuracy: 0.9775 - val_loss: 0.2786 - val_accuracy: 0.9574\n",
      "Epoch 31/100\n",
      "165/165 - 0s - loss: 0.0672 - accuracy: 0.9814 - val_loss: 0.2925 - val_accuracy: 0.9586\n",
      "Epoch 32/100\n",
      "165/165 - 0s - loss: 0.0319 - accuracy: 0.9894 - val_loss: 0.2910 - val_accuracy: 0.9555\n",
      "Epoch 33/100\n",
      "165/165 - 0s - loss: 0.0541 - accuracy: 0.9841 - val_loss: 0.2892 - val_accuracy: 0.9588\n",
      "Epoch 34/100\n",
      "165/165 - 0s - loss: 0.0236 - accuracy: 0.9926 - val_loss: 0.2667 - val_accuracy: 0.9626\n",
      "Epoch 35/100\n",
      "165/165 - 0s - loss: 0.0232 - accuracy: 0.9920 - val_loss: 0.2664 - val_accuracy: 0.9616\n",
      "Epoch 36/100\n",
      "165/165 - 0s - loss: 0.0275 - accuracy: 0.9918 - val_loss: 0.3031 - val_accuracy: 0.9581\n",
      "Epoch 37/100\n",
      "165/165 - 0s - loss: 0.0363 - accuracy: 0.9889 - val_loss: 0.3284 - val_accuracy: 0.9573\n",
      "Epoch 38/100\n",
      "165/165 - 0s - loss: 0.0289 - accuracy: 0.9912 - val_loss: 0.2957 - val_accuracy: 0.9612\n",
      "Epoch 39/100\n",
      "165/165 - 0s - loss: 0.0263 - accuracy: 0.9919 - val_loss: 0.3006 - val_accuracy: 0.9610\n",
      "Epoch 40/100\n",
      "165/165 - 0s - loss: 0.0369 - accuracy: 0.9894 - val_loss: 0.3435 - val_accuracy: 0.9559\n",
      "Epoch 41/100\n",
      "165/165 - 0s - loss: 0.1207 - accuracy: 0.9758 - val_loss: 0.3169 - val_accuracy: 0.9576\n",
      "Epoch 42/100\n",
      "165/165 - 0s - loss: 0.0505 - accuracy: 0.9862 - val_loss: 0.3066 - val_accuracy: 0.9596\n",
      "Epoch 43/100\n",
      "165/165 - 0s - loss: 0.0232 - accuracy: 0.9925 - val_loss: 0.3040 - val_accuracy: 0.9607\n",
      "Epoch 44/100\n",
      "165/165 - 0s - loss: 0.0197 - accuracy: 0.9939 - val_loss: 0.3158 - val_accuracy: 0.9609\n",
      "Epoch 45/100\n",
      "165/165 - 0s - loss: 0.0175 - accuracy: 0.9942 - val_loss: 0.3605 - val_accuracy: 0.9596\n",
      "Epoch 46/100\n",
      "165/165 - 0s - loss: 0.0834 - accuracy: 0.9820 - val_loss: 0.3331 - val_accuracy: 0.9567\n",
      "Epoch 47/100\n",
      "165/165 - 0s - loss: 0.0453 - accuracy: 0.9872 - val_loss: 0.2982 - val_accuracy: 0.9626\n",
      "Epoch 48/100\n",
      "165/165 - 0s - loss: 0.0168 - accuracy: 0.9947 - val_loss: 0.2904 - val_accuracy: 0.9624\n",
      "Epoch 49/100\n",
      "165/165 - 0s - loss: 0.0119 - accuracy: 0.9960 - val_loss: 0.3076 - val_accuracy: 0.9622\n",
      "Epoch 50/100\n",
      "165/165 - 0s - loss: 0.0083 - accuracy: 0.9971 - val_loss: 0.2952 - val_accuracy: 0.9639\n",
      "Epoch 51/100\n",
      "165/165 - 0s - loss: 0.0068 - accuracy: 0.9976 - val_loss: 0.3153 - val_accuracy: 0.9624\n",
      "Epoch 52/100\n",
      "165/165 - 0s - loss: 0.0102 - accuracy: 0.9968 - val_loss: 0.3356 - val_accuracy: 0.9624\n",
      "Epoch 53/100\n",
      "165/165 - 0s - loss: 0.0439 - accuracy: 0.9899 - val_loss: 0.3360 - val_accuracy: 0.9601\n",
      "Epoch 54/100\n",
      "165/165 - 0s - loss: 0.0440 - accuracy: 0.9884 - val_loss: 0.3962 - val_accuracy: 0.9522\n",
      "Epoch 55/100\n",
      "165/165 - 0s - loss: 0.0344 - accuracy: 0.9904 - val_loss: 0.3204 - val_accuracy: 0.9628\n",
      "Epoch 56/100\n",
      "165/165 - 0s - loss: 0.0249 - accuracy: 0.9929 - val_loss: 0.3248 - val_accuracy: 0.9622\n",
      "Epoch 57/100\n",
      "165/165 - 0s - loss: 0.0249 - accuracy: 0.9931 - val_loss: 0.3216 - val_accuracy: 0.9622\n",
      "Epoch 58/100\n",
      "165/165 - 0s - loss: 0.0189 - accuracy: 0.9944 - val_loss: 0.3624 - val_accuracy: 0.9622\n",
      "Epoch 59/100\n",
      "165/165 - 0s - loss: 0.0380 - accuracy: 0.9902 - val_loss: 0.3537 - val_accuracy: 0.9588\n",
      "Epoch 60/100\n",
      "165/165 - 0s - loss: 0.0229 - accuracy: 0.9933 - val_loss: 0.3203 - val_accuracy: 0.9637\n",
      "Epoch 61/100\n",
      "165/165 - 0s - loss: 0.0132 - accuracy: 0.9956 - val_loss: 0.3235 - val_accuracy: 0.9648\n",
      "Epoch 62/100\n",
      "165/165 - 0s - loss: 0.0245 - accuracy: 0.9930 - val_loss: 0.3462 - val_accuracy: 0.9624\n",
      "Epoch 63/100\n",
      "165/165 - 0s - loss: 0.0125 - accuracy: 0.9961 - val_loss: 0.3592 - val_accuracy: 0.9621\n",
      "Epoch 64/100\n",
      "165/165 - 0s - loss: 0.0358 - accuracy: 0.9913 - val_loss: 0.3674 - val_accuracy: 0.9630\n",
      "Epoch 65/100\n",
      "165/165 - 0s - loss: 0.0225 - accuracy: 0.9941 - val_loss: 0.3481 - val_accuracy: 0.9629\n",
      "Epoch 66/100\n",
      "165/165 - 0s - loss: 0.0176 - accuracy: 0.9953 - val_loss: 0.3636 - val_accuracy: 0.9630\n",
      "Epoch 67/100\n",
      "165/165 - 0s - loss: 0.0151 - accuracy: 0.9954 - val_loss: 0.3768 - val_accuracy: 0.9627\n",
      "Epoch 68/100\n",
      "165/165 - 0s - loss: 0.0160 - accuracy: 0.9948 - val_loss: 0.3718 - val_accuracy: 0.9624\n",
      "Epoch 69/100\n",
      "165/165 - 0s - loss: 0.0228 - accuracy: 0.9941 - val_loss: 0.3729 - val_accuracy: 0.9625\n",
      "Epoch 70/100\n",
      "165/165 - 0s - loss: 0.0231 - accuracy: 0.9944 - val_loss: 0.3860 - val_accuracy: 0.9614\n",
      "Epoch 71/100\n",
      "165/165 - 0s - loss: 0.0287 - accuracy: 0.9927 - val_loss: 0.3811 - val_accuracy: 0.9617\n",
      "Epoch 72/100\n",
      "165/165 - 0s - loss: 0.0210 - accuracy: 0.9942 - val_loss: 0.3537 - val_accuracy: 0.9626\n",
      "Epoch 73/100\n",
      "165/165 - 0s - loss: 0.0132 - accuracy: 0.9961 - val_loss: 0.3454 - val_accuracy: 0.9649\n",
      "Epoch 74/100\n",
      "165/165 - 0s - loss: 0.0123 - accuracy: 0.9967 - val_loss: 0.3549 - val_accuracy: 0.9632\n",
      "Epoch 75/100\n",
      "165/165 - 0s - loss: 0.0200 - accuracy: 0.9950 - val_loss: 0.3460 - val_accuracy: 0.9631\n",
      "Epoch 76/100\n",
      "165/165 - 0s - loss: 0.0183 - accuracy: 0.9947 - val_loss: 0.4148 - val_accuracy: 0.9591\n",
      "Epoch 77/100\n",
      "165/165 - 0s - loss: 0.0278 - accuracy: 0.9932 - val_loss: 0.3882 - val_accuracy: 0.9584\n",
      "Epoch 78/100\n",
      "165/165 - 0s - loss: 0.0176 - accuracy: 0.9952 - val_loss: 0.4028 - val_accuracy: 0.9646\n",
      "Epoch 79/100\n",
      "165/165 - 0s - loss: 0.0212 - accuracy: 0.9947 - val_loss: 0.3972 - val_accuracy: 0.9634\n",
      "Epoch 80/100\n",
      "165/165 - 0s - loss: 0.0174 - accuracy: 0.9950 - val_loss: 0.4191 - val_accuracy: 0.9603\n",
      "Epoch 81/100\n",
      "165/165 - 0s - loss: 0.0303 - accuracy: 0.9930 - val_loss: 0.3657 - val_accuracy: 0.9659\n",
      "Epoch 82/100\n",
      "165/165 - 0s - loss: 0.0180 - accuracy: 0.9956 - val_loss: 0.3558 - val_accuracy: 0.9654\n",
      "Epoch 83/100\n",
      "165/165 - 0s - loss: 0.0119 - accuracy: 0.9968 - val_loss: 0.3527 - val_accuracy: 0.9660\n",
      "Epoch 84/100\n",
      "165/165 - 0s - loss: 0.0097 - accuracy: 0.9973 - val_loss: 0.3618 - val_accuracy: 0.9659\n",
      "Epoch 85/100\n",
      "165/165 - 0s - loss: 0.0057 - accuracy: 0.9982 - val_loss: 0.3461 - val_accuracy: 0.9688\n",
      "Epoch 86/100\n",
      "165/165 - 0s - loss: 0.0059 - accuracy: 0.9983 - val_loss: 0.4298 - val_accuracy: 0.9633\n",
      "Epoch 87/100\n",
      "165/165 - 0s - loss: 0.0202 - accuracy: 0.9950 - val_loss: 0.3948 - val_accuracy: 0.9639\n",
      "Epoch 88/100\n",
      "165/165 - 0s - loss: 0.0363 - accuracy: 0.9926 - val_loss: 0.4259 - val_accuracy: 0.9612\n",
      "Epoch 89/100\n",
      "165/165 - 0s - loss: 0.0219 - accuracy: 0.9942 - val_loss: 0.3926 - val_accuracy: 0.9622\n",
      "Epoch 90/100\n",
      "165/165 - 0s - loss: 0.0271 - accuracy: 0.9941 - val_loss: 0.3686 - val_accuracy: 0.9661\n",
      "Epoch 91/100\n",
      "165/165 - 0s - loss: 0.0117 - accuracy: 0.9971 - val_loss: 0.3473 - val_accuracy: 0.9667\n",
      "Epoch 92/100\n",
      "165/165 - 0s - loss: 0.0092 - accuracy: 0.9973 - val_loss: 0.3867 - val_accuracy: 0.9641\n",
      "Epoch 93/100\n",
      "165/165 - 0s - loss: 0.0097 - accuracy: 0.9973 - val_loss: 0.3543 - val_accuracy: 0.9673\n",
      "Epoch 94/100\n",
      "165/165 - 0s - loss: 0.0112 - accuracy: 0.9970 - val_loss: 0.4202 - val_accuracy: 0.9641\n",
      "Epoch 95/100\n",
      "165/165 - 0s - loss: 0.0180 - accuracy: 0.9955 - val_loss: 0.3923 - val_accuracy: 0.9626\n",
      "Epoch 96/100\n",
      "165/165 - 0s - loss: 0.0177 - accuracy: 0.9955 - val_loss: 0.3805 - val_accuracy: 0.9670\n",
      "Epoch 97/100\n",
      "165/165 - 0s - loss: 0.0193 - accuracy: 0.9952 - val_loss: 0.3663 - val_accuracy: 0.9672\n",
      "Epoch 98/100\n",
      "165/165 - 0s - loss: 0.0186 - accuracy: 0.9950 - val_loss: 0.4019 - val_accuracy: 0.9641\n",
      "Epoch 99/100\n",
      "165/165 - 0s - loss: 0.0080 - accuracy: 0.9975 - val_loss: 0.3779 - val_accuracy: 0.9675\n",
      "Epoch 100/100\n",
      "165/165 - 0s - loss: 0.0103 - accuracy: 0.9971 - val_loss: 0.3781 - val_accuracy: 0.9680\n"
     ]
    }
   ],
   "source": [
    "history = model.fit(x_train, y_train, batch_size=256, epochs=100, validation_split=0.3, verbose=2)"
   ]
  },
  {
   "cell_type": "code",
   "execution_count": 3,
   "id": "56e8aa98-0e70-4d5f-8a78-776b15a19a5f",
   "metadata": {},
   "outputs": [
    {
     "data": {
      "image/png": "[encoded data removed]",
      "text/plain": [
       "<Figure size 432x288 with 1 Axes>"
      ]
     },
     "metadata": {
      "needs_background": "light"
     },
     "output_type": "display_data"
    }
   ],
   "source": [
    "import matplotlib.pyplot as plt\n",
    "plt.plot(history.history['accuracy'])\n",
    "plt.plot(history.history['val_accuracy'])\n",
    "plt.legend(['training', 'validation'], loc='upper left')\n",
    "plt.show()"
   ]
  },
  {
   "cell_type": "code",
   "execution_count": 4,
   "id": "a8717c61-658d-402c-b491-a2d88ca433af",
   "metadata": {
    "tags": []
   },
   "outputs": [
    {
     "name": "stdout",
     "output_type": "stream",
     "text": [
      "313/313 [==============================] - 0s 366us/step - loss: 0.3840 - accuracy: 0.9660\n",
      "[0.38398343324661255, 0.9660000205039978]\n"
     ]
    }
   ],
   "source": [
    "result = model.evaluate(x_test, y_test)\n",
    "print(result)"
   ]
  }
 ],
 "metadata": {
  "kernelspec": {
   "display_name": "Python 3 (ipykernel)",
   "language": "python",
   "name": "python3"
  },
  "language_info": {
   "codemirror_mode": {
    "name": "ipython",
    "version": 3
   },
   "file_extension": ".py",
   "mimetype": "text/x-python",
   "name": "python",
   "nbconvert_exporter": "python",
   "pygments_lexer": "ipython3",
   "version": "3.8.13"
  }
 },
 "nbformat": 4,
 "nbformat_minor": 5
}
