{
 "cells": [
  {
   "cell_type": "markdown",
   "metadata": {},
   "source": [
    "# LSTM"
   ]
  },
  {
   "cell_type": "markdown",
   "metadata": {},
   "source": [
    "# MNIST(Keras版本)"
   ]
  },
  {
   "cell_type": "code",
   "execution_count": 1,
   "metadata": {},
   "outputs": [],
   "source": [
    "import numpy as np\n",
    "from tensorflow.keras.models import Sequential\n",
    "from tensorflow.keras.layers import Dense, Activation, LSTM, GRU\n",
    "from tensorflow.keras.utils import to_categorical, plot_model\n",
    "from tensorflow.keras.datasets import mnist\n",
    "\n",
    "# load mnist dataset\n",
    "(x_train, y_train), (x_test, y_test) = mnist.load_data()"
   ]
  },
  {
   "cell_type": "code",
   "execution_count": 3,
   "metadata": {},
   "outputs": [],
   "source": [
    "# compute the number of labels\n",
    "num_labels = len(np.unique(y_train))"
   ]
  },
  {
   "cell_type": "code",
   "execution_count": 4,
   "metadata": {},
   "outputs": [],
   "source": [
    "# convert to one-hot vector\n",
    "y_train = to_categorical(y_train)\n",
    "y_test = to_categorical(y_test)"
   ]
  },
  {
   "cell_type": "code",
   "execution_count": 5,
   "metadata": {},
   "outputs": [],
   "source": [
    "# resize and normalize\n",
    "image_size = x_train.shape[1]\n",
    "x_train = np.reshape(x_train,[-1, image_size, image_size])\n",
    "x_test = np.reshape(x_test,[-1, image_size, image_size])\n",
    "x_train = x_train.astype('float32') / 255\n",
    "x_test = x_test.astype('float32') / 255"
   ]
  },
  {
   "cell_type": "code",
   "execution_count": 2,
   "metadata": {},
   "outputs": [
    {
     "data": {
      "text/plain": [
       "'1.18.5'"
      ]
     },
     "execution_count": 2,
     "metadata": {},
     "output_type": "execute_result"
    }
   ],
   "source": [
    "np.__version__"
   ]
  },
  {
   "cell_type": "code",
   "execution_count": 6,
   "metadata": {},
   "outputs": [
    {
     "name": "stdout",
     "output_type": "stream",
     "text": [
      "Model: \"sequential\"\n",
      "_________________________________________________________________\n",
      "Layer (type)                 Output Shape              Param #   \n",
      "=================================================================\n",
      "lstm (LSTM)                  (None, 256)               291840    \n",
      "_________________________________________________________________\n",
      "dense (Dense)                (None, 10)                2570      \n",
      "_________________________________________________________________\n",
      "activation (Activation)      (None, 10)                0         \n",
      "=================================================================\n",
      "Total params: 294,410\n",
      "Trainable params: 294,410\n",
      "Non-trainable params: 0\n",
      "_________________________________________________________________\n"
     ]
    }
   ],
   "source": [
    "# network parameters\n",
    "input_shape = (image_size, image_size)\n",
    "batch_size = 128\n",
    "units = 256\n",
    "\n",
    "# model is RNN with 256 units, input is 28-dim vector 28 timesteps\n",
    "model = Sequential()\n",
    "# input_ shape = (timesteps, input_dim)\n",
    "model.add(LSTM(units=units,\n",
    "                    input_shape=input_shape))\n",
    "model.add(Dense(num_labels))\n",
    "model.add(Activation('softmax'))\n",
    "model.summary()"
   ]
  },
  {
   "cell_type": "code",
   "execution_count": 7,
   "metadata": {},
   "outputs": [
    {
     "name": "stdout",
     "output_type": "stream",
     "text": [
      "Epoch 1/20\n",
      "469/469 [==============================] - 25s 54ms/step - loss: 2.2369 - accuracy: 0.2744\n",
      "Epoch 2/20\n",
      "469/469 [==============================] - 27s 57ms/step - loss: 1.8777 - accuracy: 0.3577\n",
      "Epoch 3/20\n",
      "469/469 [==============================] - 27s 57ms/step - loss: 1.4841 - accuracy: 0.5063\n",
      "Epoch 4/20\n",
      "469/469 [==============================] - 26s 56ms/step - loss: 1.1512 - accuracy: 0.6161\n",
      "Epoch 5/20\n",
      "469/469 [==============================] - 27s 57ms/step - loss: 0.8729 - accuracy: 0.7139\n",
      "Epoch 6/20\n",
      "469/469 [==============================] - 27s 57ms/step - loss: 0.6910 - accuracy: 0.7779\n",
      "Epoch 7/20\n",
      "469/469 [==============================] - 26s 55ms/step - loss: 0.5614 - accuracy: 0.8233\n",
      "Epoch 8/20\n",
      "469/469 [==============================] - 26s 57ms/step - loss: 0.4538 - accuracy: 0.8585\n",
      "Epoch 9/20\n",
      "469/469 [==============================] - 26s 55ms/step - loss: 0.3794 - accuracy: 0.8828\n",
      "Epoch 10/20\n",
      "469/469 [==============================] - 27s 57ms/step - loss: 0.3176 - accuracy: 0.9021\n",
      "Epoch 11/20\n",
      "469/469 [==============================] - 26s 56ms/step - loss: 0.2769 - accuracy: 0.9153\n",
      "Epoch 12/20\n",
      "469/469 [==============================] - 26s 56ms/step - loss: 0.2450 - accuracy: 0.9246\n",
      "Epoch 13/20\n",
      "469/469 [==============================] - 26s 56ms/step - loss: 0.2220 - accuracy: 0.9321\n",
      "Epoch 14/20\n",
      "469/469 [==============================] - 26s 56ms/step - loss: 0.2023 - accuracy: 0.9377\n",
      "Epoch 15/20\n",
      "469/469 [==============================] - 27s 57ms/step - loss: 0.1842 - accuracy: 0.9435\n",
      "Epoch 16/20\n",
      "469/469 [==============================] - 26s 56ms/step - loss: 0.1715 - accuracy: 0.9477\n",
      "Epoch 17/20\n",
      "469/469 [==============================] - 27s 57ms/step - loss: 0.1615 - accuracy: 0.9502\n",
      "Epoch 18/20\n",
      "469/469 [==============================] - 26s 56ms/step - loss: 0.1513 - accuracy: 0.9535\n",
      "Epoch 19/20\n",
      "469/469 [==============================] - 27s 57ms/step - loss: 0.1414 - accuracy: 0.9575\n",
      "Epoch 20/20\n",
      "469/469 [==============================] - 26s 56ms/step - loss: 0.1352 - accuracy: 0.9590\n"
     ]
    },
    {
     "data": {
      "text/plain": [
       "<tensorflow.python.keras.callbacks.History at 0x1d2147d0c40>"
      ]
     },
     "execution_count": 7,
     "metadata": {},
     "output_type": "execute_result"
    }
   ],
   "source": [
    "# loss function for one-hot vector\n",
    "# use of sgd optimizer\n",
    "# accuracy is good metric for classification tasks\n",
    "model.compile(loss='categorical_crossentropy',\n",
    "              optimizer='sgd',\n",
    "              metrics=['accuracy'])\n",
    "# train the network\n",
    "model.fit(x_train, y_train, epochs=20, batch_size=batch_size)"
   ]
  },
  {
   "cell_type": "code",
   "execution_count": 8,
   "metadata": {},
   "outputs": [
    {
     "name": "stdout",
     "output_type": "stream",
     "text": [
      "\n",
      "Test accuracy: 95.5%\n"
     ]
    }
   ],
   "source": [
    "_, acc = model.evaluate(x_test,\n",
    "                        y_test,\n",
    "                        batch_size=batch_size,\n",
    "                        verbose=0)\n",
    "print(\"\\nTest accuracy: %.1f%%\" % (100.0 * acc))"
   ]
  }
 ],
 "metadata": {
  "kernelspec": {
   "display_name": "Python 3 (ipykernel)",
   "language": "python",
   "name": "python3"
  },
  "language_info": {
   "codemirror_mode": {
    "name": "ipython",
    "version": 3
   },
   "file_extension": ".py",
   "mimetype": "text/x-python",
   "name": "python",
   "nbconvert_exporter": "python",
   "pygments_lexer": "ipython3",
   "version": "3.8.13"
  }
 },
 "nbformat": 4,
 "nbformat_minor": 4
}
